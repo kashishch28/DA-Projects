{
 "cells": [
  {
   "cell_type": "markdown",
   "id": "714742da-88a7-46bf-b320-3602f1caddfe",
   "metadata": {},
   "source": [
    "# **Project Name**    -\n",
    "\n",
    "##### **Project Type**    - EDA\n",
    "##### **Contribution**    - Individual\n",
    "##### **Name**          - Kashish Chaudhary\n",
    "\n",
    "\n",
    "# **Project Summary -**\n",
    "Despite growing awareness of mental health issues, many employees still face challenges when it comes to discussing or addressing these concerns at work. Fear of judgment, lack of benefits, and unsupportive management can prevent individuals from seeking help. Organizations often lack the tools or knowledge to identify these issues effectively. This project uses real-world survey data from tech professionals to identify key predictors of mental health challenges, explore regional and organizational differences, and evaluate trends over time. The findings are intended to guide companies in shaping better policies and improving employee well-being.\n",
    "\n",
    "# **GitHub Link -**  \n",
    "https://github.com/kashishch28/DA-Projects/tree/main/Mental%20Health%20Survey%20report\n",
    "\n",
    "\n",
    "#### **Business Objective?**\n",
    "The objective of this project is to help organizations understand how various workplace factors influence employee mental health. By analyzing survey data, we aim to uncover patterns related to mental health support, employee openness, and company policies across different countries and company types. The goal is to equip companies with data-driven insights that can be used to reduce stigma, improve mental health support systems, and create safer, more inclusive work environments where employees feel supported and heard."
   ]
  },
  {
   "cell_type": "code",
   "execution_count": 2,
   "id": "257c37a6-743c-4b68-b570-c02ee9547fa5",
   "metadata": {},
   "outputs": [
    {
     "data": {
      "text/html": [
       "<div>\n",
       "<style scoped>\n",
       "    .dataframe tbody tr th:only-of-type {\n",
       "        vertical-align: middle;\n",
       "    }\n",
       "\n",
       "    .dataframe tbody tr th {\n",
       "        vertical-align: top;\n",
       "    }\n",
       "\n",
       "    .dataframe thead th {\n",
       "        text-align: right;\n",
       "    }\n",
       "</style>\n",
       "<table border=\"1\" class=\"dataframe\">\n",
       "  <thead>\n",
       "    <tr style=\"text-align: right;\">\n",
       "      <th></th>\n",
       "      <th>Timestamp</th>\n",
       "      <th>Age</th>\n",
       "      <th>Gender</th>\n",
       "      <th>Country</th>\n",
       "      <th>state</th>\n",
       "      <th>self_employed</th>\n",
       "      <th>family_history</th>\n",
       "      <th>treatment</th>\n",
       "      <th>work_interfere</th>\n",
       "      <th>no_employees</th>\n",
       "      <th>...</th>\n",
       "      <th>leave</th>\n",
       "      <th>mental_health_consequence</th>\n",
       "      <th>phys_health_consequence</th>\n",
       "      <th>coworkers</th>\n",
       "      <th>supervisor</th>\n",
       "      <th>mental_health_interview</th>\n",
       "      <th>phys_health_interview</th>\n",
       "      <th>mental_vs_physical</th>\n",
       "      <th>obs_consequence</th>\n",
       "      <th>comments</th>\n",
       "    </tr>\n",
       "  </thead>\n",
       "  <tbody>\n",
       "    <tr>\n",
       "      <th>0</th>\n",
       "      <td>27-08-2014 11:29</td>\n",
       "      <td>37</td>\n",
       "      <td>Female</td>\n",
       "      <td>United States</td>\n",
       "      <td>IL</td>\n",
       "      <td>NaN</td>\n",
       "      <td>No</td>\n",
       "      <td>Yes</td>\n",
       "      <td>Often</td>\n",
       "      <td>Jun-25</td>\n",
       "      <td>...</td>\n",
       "      <td>Somewhat easy</td>\n",
       "      <td>No</td>\n",
       "      <td>No</td>\n",
       "      <td>Some of them</td>\n",
       "      <td>Yes</td>\n",
       "      <td>No</td>\n",
       "      <td>Maybe</td>\n",
       "      <td>Yes</td>\n",
       "      <td>No</td>\n",
       "      <td>NaN</td>\n",
       "    </tr>\n",
       "    <tr>\n",
       "      <th>1</th>\n",
       "      <td>27-08-2014 11:29</td>\n",
       "      <td>44</td>\n",
       "      <td>M</td>\n",
       "      <td>United States</td>\n",
       "      <td>IN</td>\n",
       "      <td>NaN</td>\n",
       "      <td>No</td>\n",
       "      <td>No</td>\n",
       "      <td>Rarely</td>\n",
       "      <td>More than 1000</td>\n",
       "      <td>...</td>\n",
       "      <td>Don't know</td>\n",
       "      <td>Maybe</td>\n",
       "      <td>No</td>\n",
       "      <td>No</td>\n",
       "      <td>No</td>\n",
       "      <td>No</td>\n",
       "      <td>No</td>\n",
       "      <td>Don't know</td>\n",
       "      <td>No</td>\n",
       "      <td>NaN</td>\n",
       "    </tr>\n",
       "    <tr>\n",
       "      <th>2</th>\n",
       "      <td>27-08-2014 11:29</td>\n",
       "      <td>32</td>\n",
       "      <td>Male</td>\n",
       "      <td>Canada</td>\n",
       "      <td>NaN</td>\n",
       "      <td>NaN</td>\n",
       "      <td>No</td>\n",
       "      <td>No</td>\n",
       "      <td>Rarely</td>\n",
       "      <td>Jun-25</td>\n",
       "      <td>...</td>\n",
       "      <td>Somewhat difficult</td>\n",
       "      <td>No</td>\n",
       "      <td>No</td>\n",
       "      <td>Yes</td>\n",
       "      <td>Yes</td>\n",
       "      <td>Yes</td>\n",
       "      <td>Yes</td>\n",
       "      <td>No</td>\n",
       "      <td>No</td>\n",
       "      <td>NaN</td>\n",
       "    </tr>\n",
       "    <tr>\n",
       "      <th>3</th>\n",
       "      <td>27-08-2014 11:29</td>\n",
       "      <td>31</td>\n",
       "      <td>Male</td>\n",
       "      <td>United Kingdom</td>\n",
       "      <td>NaN</td>\n",
       "      <td>NaN</td>\n",
       "      <td>Yes</td>\n",
       "      <td>Yes</td>\n",
       "      <td>Often</td>\n",
       "      <td>26-100</td>\n",
       "      <td>...</td>\n",
       "      <td>Somewhat difficult</td>\n",
       "      <td>Yes</td>\n",
       "      <td>Yes</td>\n",
       "      <td>Some of them</td>\n",
       "      <td>No</td>\n",
       "      <td>Maybe</td>\n",
       "      <td>Maybe</td>\n",
       "      <td>No</td>\n",
       "      <td>Yes</td>\n",
       "      <td>NaN</td>\n",
       "    </tr>\n",
       "    <tr>\n",
       "      <th>4</th>\n",
       "      <td>27-08-2014 11:30</td>\n",
       "      <td>31</td>\n",
       "      <td>Male</td>\n",
       "      <td>United States</td>\n",
       "      <td>TX</td>\n",
       "      <td>NaN</td>\n",
       "      <td>No</td>\n",
       "      <td>No</td>\n",
       "      <td>Never</td>\n",
       "      <td>100-500</td>\n",
       "      <td>...</td>\n",
       "      <td>Don't know</td>\n",
       "      <td>No</td>\n",
       "      <td>No</td>\n",
       "      <td>Some of them</td>\n",
       "      <td>Yes</td>\n",
       "      <td>Yes</td>\n",
       "      <td>Yes</td>\n",
       "      <td>Don't know</td>\n",
       "      <td>No</td>\n",
       "      <td>NaN</td>\n",
       "    </tr>\n",
       "    <tr>\n",
       "      <th>...</th>\n",
       "      <td>...</td>\n",
       "      <td>...</td>\n",
       "      <td>...</td>\n",
       "      <td>...</td>\n",
       "      <td>...</td>\n",
       "      <td>...</td>\n",
       "      <td>...</td>\n",
       "      <td>...</td>\n",
       "      <td>...</td>\n",
       "      <td>...</td>\n",
       "      <td>...</td>\n",
       "      <td>...</td>\n",
       "      <td>...</td>\n",
       "      <td>...</td>\n",
       "      <td>...</td>\n",
       "      <td>...</td>\n",
       "      <td>...</td>\n",
       "      <td>...</td>\n",
       "      <td>...</td>\n",
       "      <td>...</td>\n",
       "      <td>...</td>\n",
       "    </tr>\n",
       "    <tr>\n",
       "      <th>1254</th>\n",
       "      <td>12-09-2015 11:17</td>\n",
       "      <td>26</td>\n",
       "      <td>male</td>\n",
       "      <td>United Kingdom</td>\n",
       "      <td>NaN</td>\n",
       "      <td>No</td>\n",
       "      <td>No</td>\n",
       "      <td>Yes</td>\n",
       "      <td>NaN</td>\n",
       "      <td>26-100</td>\n",
       "      <td>...</td>\n",
       "      <td>Somewhat easy</td>\n",
       "      <td>No</td>\n",
       "      <td>No</td>\n",
       "      <td>Some of them</td>\n",
       "      <td>Some of them</td>\n",
       "      <td>No</td>\n",
       "      <td>No</td>\n",
       "      <td>Don't know</td>\n",
       "      <td>No</td>\n",
       "      <td>NaN</td>\n",
       "    </tr>\n",
       "    <tr>\n",
       "      <th>1255</th>\n",
       "      <td>26-09-2015 01:07</td>\n",
       "      <td>32</td>\n",
       "      <td>Male</td>\n",
       "      <td>United States</td>\n",
       "      <td>IL</td>\n",
       "      <td>No</td>\n",
       "      <td>Yes</td>\n",
       "      <td>Yes</td>\n",
       "      <td>Often</td>\n",
       "      <td>26-100</td>\n",
       "      <td>...</td>\n",
       "      <td>Somewhat difficult</td>\n",
       "      <td>No</td>\n",
       "      <td>No</td>\n",
       "      <td>Some of them</td>\n",
       "      <td>Yes</td>\n",
       "      <td>No</td>\n",
       "      <td>No</td>\n",
       "      <td>Yes</td>\n",
       "      <td>No</td>\n",
       "      <td>NaN</td>\n",
       "    </tr>\n",
       "    <tr>\n",
       "      <th>1256</th>\n",
       "      <td>07-11-2015 12:36</td>\n",
       "      <td>34</td>\n",
       "      <td>male</td>\n",
       "      <td>United States</td>\n",
       "      <td>CA</td>\n",
       "      <td>No</td>\n",
       "      <td>Yes</td>\n",
       "      <td>Yes</td>\n",
       "      <td>Sometimes</td>\n",
       "      <td>More than 1000</td>\n",
       "      <td>...</td>\n",
       "      <td>Somewhat difficult</td>\n",
       "      <td>Yes</td>\n",
       "      <td>Yes</td>\n",
       "      <td>No</td>\n",
       "      <td>No</td>\n",
       "      <td>No</td>\n",
       "      <td>No</td>\n",
       "      <td>No</td>\n",
       "      <td>No</td>\n",
       "      <td>NaN</td>\n",
       "    </tr>\n",
       "    <tr>\n",
       "      <th>1257</th>\n",
       "      <td>30-11-2015 21:25</td>\n",
       "      <td>46</td>\n",
       "      <td>f</td>\n",
       "      <td>United States</td>\n",
       "      <td>NC</td>\n",
       "      <td>No</td>\n",
       "      <td>No</td>\n",
       "      <td>No</td>\n",
       "      <td>NaN</td>\n",
       "      <td>100-500</td>\n",
       "      <td>...</td>\n",
       "      <td>Don't know</td>\n",
       "      <td>Yes</td>\n",
       "      <td>No</td>\n",
       "      <td>No</td>\n",
       "      <td>No</td>\n",
       "      <td>No</td>\n",
       "      <td>No</td>\n",
       "      <td>No</td>\n",
       "      <td>No</td>\n",
       "      <td>NaN</td>\n",
       "    </tr>\n",
       "    <tr>\n",
       "      <th>1258</th>\n",
       "      <td>01-02-2016 23:04</td>\n",
       "      <td>25</td>\n",
       "      <td>Male</td>\n",
       "      <td>United States</td>\n",
       "      <td>IL</td>\n",
       "      <td>No</td>\n",
       "      <td>Yes</td>\n",
       "      <td>Yes</td>\n",
       "      <td>Sometimes</td>\n",
       "      <td>26-100</td>\n",
       "      <td>...</td>\n",
       "      <td>Don't know</td>\n",
       "      <td>Maybe</td>\n",
       "      <td>No</td>\n",
       "      <td>Some of them</td>\n",
       "      <td>No</td>\n",
       "      <td>No</td>\n",
       "      <td>No</td>\n",
       "      <td>Don't know</td>\n",
       "      <td>No</td>\n",
       "      <td>NaN</td>\n",
       "    </tr>\n",
       "  </tbody>\n",
       "</table>\n",
       "<p>1259 rows × 27 columns</p>\n",
       "</div>"
      ],
      "text/plain": [
       "             Timestamp  Age  Gender         Country state self_employed  \\\n",
       "0     27-08-2014 11:29   37  Female   United States    IL           NaN   \n",
       "1     27-08-2014 11:29   44       M   United States    IN           NaN   \n",
       "2     27-08-2014 11:29   32    Male          Canada   NaN           NaN   \n",
       "3     27-08-2014 11:29   31    Male  United Kingdom   NaN           NaN   \n",
       "4     27-08-2014 11:30   31    Male   United States    TX           NaN   \n",
       "...                ...  ...     ...             ...   ...           ...   \n",
       "1254  12-09-2015 11:17   26    male  United Kingdom   NaN            No   \n",
       "1255  26-09-2015 01:07   32    Male   United States    IL            No   \n",
       "1256  07-11-2015 12:36   34    male   United States    CA            No   \n",
       "1257  30-11-2015 21:25   46       f   United States    NC            No   \n",
       "1258  01-02-2016 23:04   25    Male   United States    IL            No   \n",
       "\n",
       "     family_history treatment work_interfere    no_employees  ...  \\\n",
       "0                No       Yes          Often          Jun-25  ...   \n",
       "1                No        No         Rarely  More than 1000  ...   \n",
       "2                No        No         Rarely          Jun-25  ...   \n",
       "3               Yes       Yes          Often          26-100  ...   \n",
       "4                No        No          Never         100-500  ...   \n",
       "...             ...       ...            ...             ...  ...   \n",
       "1254             No       Yes            NaN          26-100  ...   \n",
       "1255            Yes       Yes          Often          26-100  ...   \n",
       "1256            Yes       Yes      Sometimes  More than 1000  ...   \n",
       "1257             No        No            NaN         100-500  ...   \n",
       "1258            Yes       Yes      Sometimes          26-100  ...   \n",
       "\n",
       "                   leave mental_health_consequence phys_health_consequence  \\\n",
       "0          Somewhat easy                        No                      No   \n",
       "1             Don't know                     Maybe                      No   \n",
       "2     Somewhat difficult                        No                      No   \n",
       "3     Somewhat difficult                       Yes                     Yes   \n",
       "4             Don't know                        No                      No   \n",
       "...                  ...                       ...                     ...   \n",
       "1254       Somewhat easy                        No                      No   \n",
       "1255  Somewhat difficult                        No                      No   \n",
       "1256  Somewhat difficult                       Yes                     Yes   \n",
       "1257          Don't know                       Yes                      No   \n",
       "1258          Don't know                     Maybe                      No   \n",
       "\n",
       "         coworkers    supervisor mental_health_interview  \\\n",
       "0     Some of them           Yes                      No   \n",
       "1               No            No                      No   \n",
       "2              Yes           Yes                     Yes   \n",
       "3     Some of them            No                   Maybe   \n",
       "4     Some of them           Yes                     Yes   \n",
       "...            ...           ...                     ...   \n",
       "1254  Some of them  Some of them                      No   \n",
       "1255  Some of them           Yes                      No   \n",
       "1256            No            No                      No   \n",
       "1257            No            No                      No   \n",
       "1258  Some of them            No                      No   \n",
       "\n",
       "     phys_health_interview mental_vs_physical obs_consequence comments  \n",
       "0                    Maybe                Yes              No      NaN  \n",
       "1                       No         Don't know              No      NaN  \n",
       "2                      Yes                 No              No      NaN  \n",
       "3                    Maybe                 No             Yes      NaN  \n",
       "4                      Yes         Don't know              No      NaN  \n",
       "...                    ...                ...             ...      ...  \n",
       "1254                    No         Don't know              No      NaN  \n",
       "1255                    No                Yes              No      NaN  \n",
       "1256                    No                 No              No      NaN  \n",
       "1257                    No                 No              No      NaN  \n",
       "1258                    No         Don't know              No      NaN  \n",
       "\n",
       "[1259 rows x 27 columns]"
      ]
     },
     "execution_count": 2,
     "metadata": {},
     "output_type": "execute_result"
    }
   ],
   "source": [
    "import pandas as pd\n",
    "df = pd.read_csv(r\"C:\\Users\\kashi\\Downloads\\survey.csv\")\n",
    "df"
   ]
  },
  {
   "cell_type": "code",
   "execution_count": 3,
   "id": "c7e39df9-8857-4227-b508-4abbe3e32e1d",
   "metadata": {},
   "outputs": [],
   "source": [
    "df['Country']= df['Country'].str.strip().str.title()\n"
   ]
  },
  {
   "cell_type": "code",
   "execution_count": 4,
   "id": "a4ac0d8b-9456-4c6a-a376-3ba473b53d87",
   "metadata": {},
   "outputs": [],
   "source": [
    "top_countries = ['United States', 'United Kingdom', 'Canada', 'Germany',\n",
    "                 'Netherlands', 'Ireland', 'Australia', 'France']"
   ]
  },
  {
   "cell_type": "code",
   "execution_count": 5,
   "id": "6a26ca20-e9b1-4df4-896d-f5d16cb3d15a",
   "metadata": {},
   "outputs": [],
   "source": [
    "df['Country'] = df['Country'].apply(lambda x: x if x in top_countries else 'Other')"
   ]
  },
  {
   "cell_type": "code",
   "execution_count": 6,
   "id": "d5e7a7e5-a24c-4f93-9ec2-277523f6890f",
   "metadata": {},
   "outputs": [],
   "source": [
    "ordered_countries = top_countries + ['Other']"
   ]
  },
  {
   "cell_type": "code",
   "execution_count": 7,
   "id": "36ce6cd9-3459-4631-97cc-34f09a4deb1b",
   "metadata": {},
   "outputs": [],
   "source": [
    "df['Country'] = pd.Categorical(df['Country'],\n",
    "                                       categories=ordered_countries,\n",
    "                                       ordered=True)\n"
   ]
  },
  {
   "cell_type": "code",
   "execution_count": 8,
   "id": "92519466-b795-4b22-a69a-c8a5437a543c",
   "metadata": {},
   "outputs": [
    {
     "data": {
      "text/plain": [
       "0"
      ]
     },
     "execution_count": 8,
     "metadata": {},
     "output_type": "execute_result"
    }
   ],
   "source": [
    "df['Country'].isna().sum()\n"
   ]
  },
  {
   "cell_type": "code",
   "execution_count": 9,
   "id": "cc3e3ef4-37fb-4583-b1ce-9d0507a2a6c4",
   "metadata": {},
   "outputs": [],
   "source": [
    "df = df[(df['Age'] >= 16) & (df['Age'] <= 80)].copy()\n"
   ]
  },
  {
   "cell_type": "code",
   "execution_count": 10,
   "id": "b57c5875-a9b7-4f62-aa07-3ccf8fdc8046",
   "metadata": {},
   "outputs": [],
   "source": [
    "def clean_gender(gender):\n",
    "    gender = str(gender).strip().lower()\n",
    "    if gender in ['male', 'm', 'man', 'cis male', 'male-ish', 'msle', 'mail', 'malr', 'cis man']:\n",
    "        return 'Male'\n",
    "    elif gender in ['female', 'f', 'woman', 'cis female', 'femake', 'female (cis)', 'cis-female/femme']:\n",
    "        return 'Female'\n",
    "    else:\n",
    "        return 'Other'\n",
    "\n",
    "df['Gender'] = df['Gender'].apply(clean_gender)\n"
   ]
  },
  {
   "cell_type": "code",
   "execution_count": 11,
   "id": "284f4081-f4cf-4081-810b-cb2d0a9b26db",
   "metadata": {},
   "outputs": [
    {
     "data": {
      "text/plain": [
       "self_employed\n",
       "No     1091\n",
       "Yes     142\n",
       "NaN      18\n",
       "Name: count, dtype: int64"
      ]
     },
     "execution_count": 11,
     "metadata": {},
     "output_type": "execute_result"
    }
   ],
   "source": [
    "df['self_employed'].value_counts(dropna=False)\n"
   ]
  },
  {
   "cell_type": "code",
   "execution_count": 12,
   "id": "3bb3e793-6200-4007-8772-fba0173fec36",
   "metadata": {},
   "outputs": [],
   "source": [
    "df['self_employed'] = df['self_employed'].fillna('Unknown')\n",
    "\n",
    "# Standardize the text format\n",
    "df['self_employed'] = df['self_employed'].str.strip().str.title()\n",
    "\n"
   ]
  },
  {
   "cell_type": "code",
   "execution_count": 93,
   "id": "62a3f6d8-d59a-4616-9323-ccbffe47ee74",
   "metadata": {},
   "outputs": [
    {
     "data": {
      "text/plain": [
       "self_employed\n",
       "No         1091\n",
       "Yes         142\n",
       "Unknown      18\n",
       "Name: count, dtype: int64"
      ]
     },
     "execution_count": 93,
     "metadata": {},
     "output_type": "execute_result"
    }
   ],
   "source": [
    "\n",
    "df['self_employed'].value_counts(dropna=False)\n"
   ]
  },
  {
   "cell_type": "code",
   "execution_count": 14,
   "id": "5143d318-cc02-44c9-bda9-f0f183414d4f",
   "metadata": {},
   "outputs": [
    {
     "data": {
      "text/plain": [
       "0"
      ]
     },
     "execution_count": 14,
     "metadata": {},
     "output_type": "execute_result"
    }
   ],
   "source": [
    "df['self_employed'].isna().sum()"
   ]
  },
  {
   "cell_type": "code",
   "execution_count": 15,
   "id": "9e3d9a9c-8413-46d7-824a-05845f0376d7",
   "metadata": {},
   "outputs": [
    {
     "data": {
      "text/plain": [
       "family_history\n",
       "No     762\n",
       "Yes    489\n",
       "Name: count, dtype: int64"
      ]
     },
     "execution_count": 15,
     "metadata": {},
     "output_type": "execute_result"
    }
   ],
   "source": [
    "df['family_history'].value_counts(dropna=False)\n"
   ]
  },
  {
   "cell_type": "code",
   "execution_count": 16,
   "id": "6a4fabc8-1f99-43dd-ba59-43d943ec5a85",
   "metadata": {},
   "outputs": [
    {
     "data": {
      "text/plain": [
       "treatment\n",
       "Yes    632\n",
       "No     619\n",
       "Name: count, dtype: int64"
      ]
     },
     "execution_count": 16,
     "metadata": {},
     "output_type": "execute_result"
    }
   ],
   "source": [
    "df['treatment'].value_counts()\n"
   ]
  },
  {
   "cell_type": "code",
   "execution_count": 17,
   "id": "c2668557-6661-4cce-9fd0-681f41f6dbc3",
   "metadata": {},
   "outputs": [
    {
     "data": {
      "text/plain": [
       "work_interfere\n",
       "Sometimes    464\n",
       "NaN          262\n",
       "Never        212\n",
       "Rarely       173\n",
       "Often        140\n",
       "Name: count, dtype: int64"
      ]
     },
     "execution_count": 17,
     "metadata": {},
     "output_type": "execute_result"
    }
   ],
   "source": [
    "df['work_interfere'].value_counts(dropna=False)\n"
   ]
  },
  {
   "cell_type": "code",
   "execution_count": 18,
   "id": "6dcf7f5f-ebd9-45ea-905e-81a57588ae3e",
   "metadata": {},
   "outputs": [
    {
     "data": {
      "text/plain": [
       "work_interfere\n",
       "Sometimes    464\n",
       "Unknown      262\n",
       "Never        212\n",
       "Rarely       173\n",
       "Often        140\n",
       "Name: count, dtype: int64"
      ]
     },
     "execution_count": 18,
     "metadata": {},
     "output_type": "execute_result"
    }
   ],
   "source": [
    "df['work_interfere'] = df['work_interfere'].fillna('Unknown')\n",
    "df['work_interfere'].value_counts()\n"
   ]
  },
  {
   "cell_type": "code",
   "execution_count": 19,
   "id": "1c357e64-06e7-430a-aad7-e5056e69c90e",
   "metadata": {},
   "outputs": [],
   "source": [
    "size = {\n",
    "    '1-5': '1-5',\n",
    "    '6-25': '6-25',\n",
    "    '26-100': '26-100',\n",
    "    '100-500': '100-500',\n",
    "    '500-1000': '500-1000',\n",
    "    'More than 1000': '1000+',\n",
    "    'I don’t know': 'Unknown',\n",
    "    'NaN': 'Unknown'  \n",
    "}\n",
    "df['no_employees'] = df['no_employees'].replace(size)\n",
    "df['no_employees'] = df['no_employees'].fillna('Unknown')\n"
   ]
  },
  {
   "cell_type": "code",
   "execution_count": 20,
   "id": "de321e14-6778-4d79-8793-a4e28ec43352",
   "metadata": {},
   "outputs": [],
   "source": [
    "ordered_sizes = ['1-5', '6-25', '26-100', '100-500', '500-1000', '1000+', 'Unknown']\n",
    "df['no_employees'] = pd.Categorical(df['no_employees'], categories=ordered_sizes, ordered=True)\n"
   ]
  },
  {
   "cell_type": "code",
   "execution_count": 21,
   "id": "e7cb7d6d-de2f-4709-820e-cf933aae0161",
   "metadata": {},
   "outputs": [
    {
     "data": {
      "text/plain": [
       "no_employees\n",
       "1-5           0\n",
       "6-25          0\n",
       "26-100      288\n",
       "100-500     175\n",
       "500-1000     60\n",
       "1000+       281\n",
       "Unknown       0\n",
       "Name: count, dtype: int64"
      ]
     },
     "execution_count": 21,
     "metadata": {},
     "output_type": "execute_result"
    }
   ],
   "source": [
    "df['no_employees'].value_counts().sort_index()\n",
    "\n",
    "df['no_employees'].value_counts().sort_index()\n"
   ]
  },
  {
   "cell_type": "code",
   "execution_count": 22,
   "id": "0b3dafb0-ddd2-4dee-94a2-67ef8ee6d1b2",
   "metadata": {},
   "outputs": [
    {
     "data": {
      "text/plain": [
       "remote_work\n",
       "No     880\n",
       "Yes    371\n",
       "Name: count, dtype: int64"
      ]
     },
     "execution_count": 22,
     "metadata": {},
     "output_type": "execute_result"
    }
   ],
   "source": [
    "df['remote_work'].value_counts(dropna=False)\n"
   ]
  },
  {
   "cell_type": "code",
   "execution_count": 23,
   "id": "fdab1edd-8e32-43d2-8e20-89f70c33380c",
   "metadata": {},
   "outputs": [
    {
     "data": {
      "text/plain": [
       "tech_company\n",
       "Yes    1025\n",
       "No      226\n",
       "Name: count, dtype: int64"
      ]
     },
     "execution_count": 23,
     "metadata": {},
     "output_type": "execute_result"
    }
   ],
   "source": [
    "df['tech_company'].value_counts(dropna=False)\n"
   ]
  },
  {
   "cell_type": "code",
   "execution_count": null,
   "id": "5a93ef48-3f28-4e65-993a-785a50a63497",
   "metadata": {},
   "outputs": [],
   "source": []
  },
  {
   "cell_type": "code",
   "execution_count": 24,
   "id": "eb90d19e-7394-465c-8f30-9a6e3ebe8e7a",
   "metadata": {},
   "outputs": [],
   "source": [
    "df['benefits'] = df['benefits'].fillna('Unknown')\n",
    "df['benefits'] = df['benefits'].str.strip().str.title()\n"
   ]
  },
  {
   "cell_type": "code",
   "execution_count": 25,
   "id": "343c57e1-d46a-4756-ad89-f7e61ac8dbe7",
   "metadata": {},
   "outputs": [
    {
     "data": {
      "text/plain": [
       "benefits\n",
       "Yes           473\n",
       "Don'T Know    407\n",
       "No            371\n",
       "Name: count, dtype: int64"
      ]
     },
     "execution_count": 25,
     "metadata": {},
     "output_type": "execute_result"
    }
   ],
   "source": [
    "df['benefits'].value_counts()\n"
   ]
  },
  {
   "cell_type": "code",
   "execution_count": 26,
   "id": "0dca621c-9cb9-4799-9c58-1e80bc557967",
   "metadata": {},
   "outputs": [
    {
     "data": {
      "text/plain": [
       "care_options\n",
       "No          499\n",
       "Yes         439\n",
       "Not Sure    313\n",
       "Name: count, dtype: int64"
      ]
     },
     "execution_count": 26,
     "metadata": {},
     "output_type": "execute_result"
    }
   ],
   "source": [
    "df['care_options'] = df['care_options'].fillna('Unknown')\n",
    "df['care_options'] = df['care_options'].str.strip().str.title()\n",
    "df['care_options'].value_counts()\n"
   ]
  },
  {
   "cell_type": "code",
   "execution_count": 27,
   "id": "a47cacfa-3914-4b8e-9037-af6f68a986bb",
   "metadata": {},
   "outputs": [
    {
     "data": {
      "text/plain": [
       "care_options\n",
       "No            499\n",
       "Yes           439\n",
       "Don'T Know    313\n",
       "Name: count, dtype: int64"
      ]
     },
     "execution_count": 27,
     "metadata": {},
     "output_type": "execute_result"
    }
   ],
   "source": [
    "df['care_options'] = df['care_options'].replace({\n",
    "    \"Not Sure\":\"Don'T Know\",\n",
    "    \n",
    "})\n",
    "df['care_options'].value_counts()\n"
   ]
  },
  {
   "cell_type": "code",
   "execution_count": 28,
   "id": "56aaf484-38f1-4935-97d8-bc60497476fd",
   "metadata": {},
   "outputs": [],
   "source": [
    "df['wellness_program'] = df['wellness_program'].fillna('Unknown')\n"
   ]
  },
  {
   "cell_type": "code",
   "execution_count": 29,
   "id": "28206d1d-ffbd-45cb-8701-2e6f0f2f8357",
   "metadata": {},
   "outputs": [
    {
     "data": {
      "text/plain": [
       "wellness_program\n",
       "No            837\n",
       "Yes           227\n",
       "Don'T Know    187\n",
       "Name: count, dtype: int64"
      ]
     },
     "execution_count": 29,
     "metadata": {},
     "output_type": "execute_result"
    }
   ],
   "source": [
    "df['wellness_program'] = df['wellness_program'].str.strip().str.title()\n",
    "df['wellness_program'].value_counts()\n"
   ]
  },
  {
   "cell_type": "code",
   "execution_count": 30,
   "id": "84a65380-eef3-4e46-bb85-e884fc446fe4",
   "metadata": {},
   "outputs": [
    {
     "data": {
      "text/plain": [
       "seek_help\n",
       "No            641\n",
       "Don'T Know    363\n",
       "Yes           247\n",
       "Name: count, dtype: int64"
      ]
     },
     "execution_count": 30,
     "metadata": {},
     "output_type": "execute_result"
    }
   ],
   "source": [
    "df['seek_help'] = df['seek_help'].str.strip().str.title()\n",
    "\n",
    "df['seek_help'].value_counts()\n"
   ]
  },
  {
   "cell_type": "code",
   "execution_count": 31,
   "id": "71d9ed3d-a226-45e3-9f08-27c2697f456e",
   "metadata": {},
   "outputs": [],
   "source": [
    "#“Is your anonymity protected if you choose to take advantage of mental health resources?"
   ]
  },
  {
   "cell_type": "code",
   "execution_count": 32,
   "id": "2f121922-c1c4-4a02-beb1-0e053717aa74",
   "metadata": {},
   "outputs": [
    {
     "data": {
      "text/plain": [
       "anonymity\n",
       "Don'T Know    815\n",
       "Yes           372\n",
       "No             64\n",
       "Name: count, dtype: int64"
      ]
     },
     "execution_count": 32,
     "metadata": {},
     "output_type": "execute_result"
    }
   ],
   "source": [
    "df['anonymity'] = df['anonymity'].str.strip().str.title()\n",
    "df['anonymity'].value_counts()\n"
   ]
  },
  {
   "cell_type": "code",
   "execution_count": 33,
   "id": "92946579-ac7c-4682-bd0b-2baff3e5239f",
   "metadata": {},
   "outputs": [],
   "source": [
    "#“How easy is it for you to take medical leave for a mental health condition?”\n",
    "\n"
   ]
  },
  {
   "cell_type": "code",
   "execution_count": 34,
   "id": "6dbe9325-f78f-434e-9c81-469612f09c40",
   "metadata": {},
   "outputs": [
    {
     "data": {
      "text/plain": [
       "leave\n",
       "Don't know            561\n",
       "Somewhat easy         265\n",
       "Very easy             203\n",
       "Somewhat difficult    125\n",
       "Very difficult         97\n",
       "Name: count, dtype: int64"
      ]
     },
     "execution_count": 34,
     "metadata": {},
     "output_type": "execute_result"
    }
   ],
   "source": [
    "df['leave'].value_counts()\n"
   ]
  },
  {
   "cell_type": "code",
   "execution_count": 35,
   "id": "fbc62262-00b5-4636-887d-fd2b67a03bac",
   "metadata": {},
   "outputs": [
    {
     "data": {
      "text/plain": [
       "leave\n",
       "Don'T Know            561\n",
       "Somewhat Easy         265\n",
       "Very Easy             203\n",
       "Somewhat Difficult    125\n",
       "Very Difficult         97\n",
       "Name: count, dtype: int64"
      ]
     },
     "execution_count": 35,
     "metadata": {},
     "output_type": "execute_result"
    }
   ],
   "source": [
    "df['leave'] = df['leave'].str.strip().str.title()\n",
    "df['leave'].value_counts()\n"
   ]
  },
  {
   "cell_type": "code",
   "execution_count": 36,
   "id": "26e0223d-617f-4e29-8c44-a2de3c91472a",
   "metadata": {},
   "outputs": [
    {
     "data": {
      "text/plain": [
       "mental_health_consequence\n",
       "No       487\n",
       "Maybe    476\n",
       "Yes      288\n",
       "Name: count, dtype: int64"
      ]
     },
     "execution_count": 36,
     "metadata": {},
     "output_type": "execute_result"
    }
   ],
   "source": [
    "df['mental_health_consequence'] = df['mental_health_consequence'].str.strip().str.title()\n",
    "df['mental_health_consequence'].value_counts()\n"
   ]
  },
  {
   "cell_type": "code",
   "execution_count": 37,
   "id": "922f16a3-2a86-4088-99b4-dd0c1b318846",
   "metadata": {},
   "outputs": [],
   "source": [
    "# “Do you think discussing a physical health issue with your employer would have negative consequences?”"
   ]
  },
  {
   "cell_type": "code",
   "execution_count": 38,
   "id": "6c64515d-d6a7-4055-8fa2-552a92b2ef52",
   "metadata": {},
   "outputs": [
    {
     "data": {
      "text/plain": [
       "phys_health_consequence\n",
       "No       920\n",
       "Maybe    273\n",
       "Yes       58\n",
       "Name: count, dtype: int64"
      ]
     },
     "execution_count": 38,
     "metadata": {},
     "output_type": "execute_result"
    }
   ],
   "source": [
    "df['phys_health_consequence'] = df['phys_health_consequence'].str.strip().str.title()\n",
    "df['phys_health_consequence'].value_counts()\n"
   ]
  },
  {
   "cell_type": "code",
   "execution_count": 39,
   "id": "a668b1d8-c678-4969-8e67-8dc875b2f6f9",
   "metadata": {},
   "outputs": [],
   "source": [
    "# “Would you feel comfortable discussing a mental health issue with your coworkers?”"
   ]
  },
  {
   "cell_type": "code",
   "execution_count": 40,
   "id": "2179f7b4-b314-49e8-bc2b-033231847d9d",
   "metadata": {},
   "outputs": [
    {
     "data": {
      "text/plain": [
       "coworkers\n",
       "Some Of Them    771\n",
       "No              258\n",
       "Yes             222\n",
       "Name: count, dtype: int64"
      ]
     },
     "execution_count": 40,
     "metadata": {},
     "output_type": "execute_result"
    }
   ],
   "source": [
    "df['coworkers'] = df['coworkers'].str.strip().str.title()\n",
    "df['coworkers'].value_counts()\n"
   ]
  },
  {
   "cell_type": "code",
   "execution_count": 41,
   "id": "dcfe47d1-1ad1-4ac2-9c7b-abc9cf21182b",
   "metadata": {},
   "outputs": [],
   "source": [
    "# “Would you feel comfortable discussing a mental health issue with your supervisor?”\n"
   ]
  },
  {
   "cell_type": "code",
   "execution_count": 42,
   "id": "fcc610fe-d98f-4434-8185-17403988555e",
   "metadata": {},
   "outputs": [
    {
     "data": {
      "text/plain": [
       "supervisor\n",
       "Yes             512\n",
       "No              390\n",
       "Some Of Them    349\n",
       "Name: count, dtype: int64"
      ]
     },
     "execution_count": 42,
     "metadata": {},
     "output_type": "execute_result"
    }
   ],
   "source": [
    "df['supervisor'] = df['supervisor'].str.strip().str.title()\n",
    "df['supervisor'].value_counts()\n"
   ]
  },
  {
   "cell_type": "code",
   "execution_count": 43,
   "id": "0d5e1847-b1db-460a-b6a5-3e56ca6134ca",
   "metadata": {},
   "outputs": [],
   "source": [
    "# “Would you bring up a mental health issue with a potential employer in an interview?”"
   ]
  },
  {
   "cell_type": "code",
   "execution_count": 44,
   "id": "7f8ed64a-ebc2-42cd-b1e9-73c31f075fc7",
   "metadata": {},
   "outputs": [
    {
     "data": {
      "text/plain": [
       "mental_health_interview\n",
       "No       1003\n",
       "Maybe     207\n",
       "Yes        41\n",
       "Name: count, dtype: int64"
      ]
     },
     "execution_count": 44,
     "metadata": {},
     "output_type": "execute_result"
    }
   ],
   "source": [
    "df['mental_health_interview'] = df['mental_health_interview'].str.strip().str.title()\n",
    "df['mental_health_interview'].value_counts()\n"
   ]
  },
  {
   "cell_type": "code",
   "execution_count": 45,
   "id": "bcb31e0a-62c7-4544-afd2-5248dd212894",
   "metadata": {},
   "outputs": [],
   "source": [
    "# “Would you bring up a physical health issue with a potential employer in an interview?”"
   ]
  },
  {
   "cell_type": "code",
   "execution_count": 46,
   "id": "15901db6-1e00-41fd-b397-edd861feef9c",
   "metadata": {},
   "outputs": [
    {
     "data": {
      "text/plain": [
       "phys_health_interview\n",
       "Maybe    555\n",
       "No       496\n",
       "Yes      200\n",
       "Name: count, dtype: int64"
      ]
     },
     "execution_count": 46,
     "metadata": {},
     "output_type": "execute_result"
    }
   ],
   "source": [
    "df['phys_health_interview'] = df['phys_health_interview'].str.strip().str.title()\n",
    "df['phys_health_interview'].value_counts()\n"
   ]
  },
  {
   "cell_type": "code",
   "execution_count": 47,
   "id": "3b034fc3-817f-4197-862a-c664b8faa8be",
   "metadata": {},
   "outputs": [],
   "source": [
    "#“Do you feel that mental health is taken as seriously as physical health at your workplace?”"
   ]
  },
  {
   "cell_type": "code",
   "execution_count": 48,
   "id": "dfe9d03b-535c-402e-bfb0-1c5f78e2e3d7",
   "metadata": {},
   "outputs": [
    {
     "data": {
      "text/plain": [
       "mental_vs_physical\n",
       "Don'T Know    574\n",
       "Yes           339\n",
       "No            338\n",
       "Name: count, dtype: int64"
      ]
     },
     "execution_count": 48,
     "metadata": {},
     "output_type": "execute_result"
    }
   ],
   "source": [
    "df['mental_vs_physical'] = df['mental_vs_physical'].str.strip().str.title()\n",
    "df['mental_vs_physical'].value_counts()\n"
   ]
  },
  {
   "cell_type": "code",
   "execution_count": 49,
   "id": "361be6ab-9ac9-4345-aa0f-5f4abf73492f",
   "metadata": {},
   "outputs": [],
   "source": [
    "#“Have you heard of or observed negative consequences for discussing mental health issues at your workplace?”"
   ]
  },
  {
   "cell_type": "code",
   "execution_count": 50,
   "id": "01daf2bf-5353-4189-a6ef-fad30e641a03",
   "metadata": {},
   "outputs": [
    {
     "data": {
      "text/plain": [
       "obs_consequence\n",
       "No     1070\n",
       "Yes     181\n",
       "Name: count, dtype: int64"
      ]
     },
     "execution_count": 50,
     "metadata": {},
     "output_type": "execute_result"
    }
   ],
   "source": [
    "df['obs_consequence'] = df['obs_consequence'].str.strip().str.title()\n",
    "df['obs_consequence'].value_counts()\n"
   ]
  },
  {
   "cell_type": "markdown",
   "id": "4a357ea2-04af-4e45-a639-e6fda0c4d072",
   "metadata": {},
   "source": [
    "## For time  Stamp\n",
    "\n",
    "##### Are people more open to talking about mental health year by year?\n",
    "##### Is mental health seen more equally to physical health now than before?\n",
    "##### Is willingness to take leave for mental health improving?"
   ]
  },
  {
   "cell_type": "code",
   "execution_count": 51,
   "id": "900b571c-c4c9-4f48-83f4-73250ed18d19",
   "metadata": {},
   "outputs": [
    {
     "data": {
      "text/html": [
       "<div>\n",
       "<style scoped>\n",
       "    .dataframe tbody tr th:only-of-type {\n",
       "        vertical-align: middle;\n",
       "    }\n",
       "\n",
       "    .dataframe tbody tr th {\n",
       "        vertical-align: top;\n",
       "    }\n",
       "\n",
       "    .dataframe thead th {\n",
       "        text-align: right;\n",
       "    }\n",
       "</style>\n",
       "<table border=\"1\" class=\"dataframe\">\n",
       "  <thead>\n",
       "    <tr style=\"text-align: right;\">\n",
       "      <th></th>\n",
       "      <th>Timestamp</th>\n",
       "      <th>Age</th>\n",
       "      <th>Gender</th>\n",
       "      <th>Country</th>\n",
       "      <th>state</th>\n",
       "      <th>self_employed</th>\n",
       "      <th>family_history</th>\n",
       "      <th>treatment</th>\n",
       "      <th>work_interfere</th>\n",
       "      <th>no_employees</th>\n",
       "      <th>...</th>\n",
       "      <th>coworkers</th>\n",
       "      <th>supervisor</th>\n",
       "      <th>mental_health_interview</th>\n",
       "      <th>phys_health_interview</th>\n",
       "      <th>mental_vs_physical</th>\n",
       "      <th>obs_consequence</th>\n",
       "      <th>comments</th>\n",
       "      <th>year</th>\n",
       "      <th>month</th>\n",
       "      <th>year_month</th>\n",
       "    </tr>\n",
       "  </thead>\n",
       "  <tbody>\n",
       "    <tr>\n",
       "      <th>0</th>\n",
       "      <td>2014-08-27 11:29:00</td>\n",
       "      <td>37</td>\n",
       "      <td>Female</td>\n",
       "      <td>United States</td>\n",
       "      <td>IL</td>\n",
       "      <td>Unknown</td>\n",
       "      <td>No</td>\n",
       "      <td>Yes</td>\n",
       "      <td>Often</td>\n",
       "      <td>NaN</td>\n",
       "      <td>...</td>\n",
       "      <td>Some Of Them</td>\n",
       "      <td>Yes</td>\n",
       "      <td>No</td>\n",
       "      <td>Maybe</td>\n",
       "      <td>Yes</td>\n",
       "      <td>No</td>\n",
       "      <td>NaN</td>\n",
       "      <td>2014</td>\n",
       "      <td>8</td>\n",
       "      <td>2014-08</td>\n",
       "    </tr>\n",
       "    <tr>\n",
       "      <th>1</th>\n",
       "      <td>2014-08-27 11:29:00</td>\n",
       "      <td>44</td>\n",
       "      <td>Male</td>\n",
       "      <td>United States</td>\n",
       "      <td>IN</td>\n",
       "      <td>Unknown</td>\n",
       "      <td>No</td>\n",
       "      <td>No</td>\n",
       "      <td>Rarely</td>\n",
       "      <td>1000+</td>\n",
       "      <td>...</td>\n",
       "      <td>No</td>\n",
       "      <td>No</td>\n",
       "      <td>No</td>\n",
       "      <td>No</td>\n",
       "      <td>Don'T Know</td>\n",
       "      <td>No</td>\n",
       "      <td>NaN</td>\n",
       "      <td>2014</td>\n",
       "      <td>8</td>\n",
       "      <td>2014-08</td>\n",
       "    </tr>\n",
       "    <tr>\n",
       "      <th>2</th>\n",
       "      <td>2014-08-27 11:29:00</td>\n",
       "      <td>32</td>\n",
       "      <td>Male</td>\n",
       "      <td>Canada</td>\n",
       "      <td>NaN</td>\n",
       "      <td>Unknown</td>\n",
       "      <td>No</td>\n",
       "      <td>No</td>\n",
       "      <td>Rarely</td>\n",
       "      <td>NaN</td>\n",
       "      <td>...</td>\n",
       "      <td>Yes</td>\n",
       "      <td>Yes</td>\n",
       "      <td>Yes</td>\n",
       "      <td>Yes</td>\n",
       "      <td>No</td>\n",
       "      <td>No</td>\n",
       "      <td>NaN</td>\n",
       "      <td>2014</td>\n",
       "      <td>8</td>\n",
       "      <td>2014-08</td>\n",
       "    </tr>\n",
       "    <tr>\n",
       "      <th>3</th>\n",
       "      <td>2014-08-27 11:29:00</td>\n",
       "      <td>31</td>\n",
       "      <td>Male</td>\n",
       "      <td>United Kingdom</td>\n",
       "      <td>NaN</td>\n",
       "      <td>Unknown</td>\n",
       "      <td>Yes</td>\n",
       "      <td>Yes</td>\n",
       "      <td>Often</td>\n",
       "      <td>26-100</td>\n",
       "      <td>...</td>\n",
       "      <td>Some Of Them</td>\n",
       "      <td>No</td>\n",
       "      <td>Maybe</td>\n",
       "      <td>Maybe</td>\n",
       "      <td>No</td>\n",
       "      <td>Yes</td>\n",
       "      <td>NaN</td>\n",
       "      <td>2014</td>\n",
       "      <td>8</td>\n",
       "      <td>2014-08</td>\n",
       "    </tr>\n",
       "    <tr>\n",
       "      <th>4</th>\n",
       "      <td>2014-08-27 11:30:00</td>\n",
       "      <td>31</td>\n",
       "      <td>Male</td>\n",
       "      <td>United States</td>\n",
       "      <td>TX</td>\n",
       "      <td>Unknown</td>\n",
       "      <td>No</td>\n",
       "      <td>No</td>\n",
       "      <td>Never</td>\n",
       "      <td>100-500</td>\n",
       "      <td>...</td>\n",
       "      <td>Some Of Them</td>\n",
       "      <td>Yes</td>\n",
       "      <td>Yes</td>\n",
       "      <td>Yes</td>\n",
       "      <td>Don'T Know</td>\n",
       "      <td>No</td>\n",
       "      <td>NaN</td>\n",
       "      <td>2014</td>\n",
       "      <td>8</td>\n",
       "      <td>2014-08</td>\n",
       "    </tr>\n",
       "    <tr>\n",
       "      <th>...</th>\n",
       "      <td>...</td>\n",
       "      <td>...</td>\n",
       "      <td>...</td>\n",
       "      <td>...</td>\n",
       "      <td>...</td>\n",
       "      <td>...</td>\n",
       "      <td>...</td>\n",
       "      <td>...</td>\n",
       "      <td>...</td>\n",
       "      <td>...</td>\n",
       "      <td>...</td>\n",
       "      <td>...</td>\n",
       "      <td>...</td>\n",
       "      <td>...</td>\n",
       "      <td>...</td>\n",
       "      <td>...</td>\n",
       "      <td>...</td>\n",
       "      <td>...</td>\n",
       "      <td>...</td>\n",
       "      <td>...</td>\n",
       "      <td>...</td>\n",
       "    </tr>\n",
       "    <tr>\n",
       "      <th>1254</th>\n",
       "      <td>2015-09-12 11:17:00</td>\n",
       "      <td>26</td>\n",
       "      <td>Male</td>\n",
       "      <td>United Kingdom</td>\n",
       "      <td>NaN</td>\n",
       "      <td>No</td>\n",
       "      <td>No</td>\n",
       "      <td>Yes</td>\n",
       "      <td>Unknown</td>\n",
       "      <td>26-100</td>\n",
       "      <td>...</td>\n",
       "      <td>Some Of Them</td>\n",
       "      <td>Some Of Them</td>\n",
       "      <td>No</td>\n",
       "      <td>No</td>\n",
       "      <td>Don'T Know</td>\n",
       "      <td>No</td>\n",
       "      <td>NaN</td>\n",
       "      <td>2015</td>\n",
       "      <td>9</td>\n",
       "      <td>2015-09</td>\n",
       "    </tr>\n",
       "    <tr>\n",
       "      <th>1255</th>\n",
       "      <td>2015-09-26 01:07:00</td>\n",
       "      <td>32</td>\n",
       "      <td>Male</td>\n",
       "      <td>United States</td>\n",
       "      <td>IL</td>\n",
       "      <td>No</td>\n",
       "      <td>Yes</td>\n",
       "      <td>Yes</td>\n",
       "      <td>Often</td>\n",
       "      <td>26-100</td>\n",
       "      <td>...</td>\n",
       "      <td>Some Of Them</td>\n",
       "      <td>Yes</td>\n",
       "      <td>No</td>\n",
       "      <td>No</td>\n",
       "      <td>Yes</td>\n",
       "      <td>No</td>\n",
       "      <td>NaN</td>\n",
       "      <td>2015</td>\n",
       "      <td>9</td>\n",
       "      <td>2015-09</td>\n",
       "    </tr>\n",
       "    <tr>\n",
       "      <th>1256</th>\n",
       "      <td>2015-11-07 12:36:00</td>\n",
       "      <td>34</td>\n",
       "      <td>Male</td>\n",
       "      <td>United States</td>\n",
       "      <td>CA</td>\n",
       "      <td>No</td>\n",
       "      <td>Yes</td>\n",
       "      <td>Yes</td>\n",
       "      <td>Sometimes</td>\n",
       "      <td>1000+</td>\n",
       "      <td>...</td>\n",
       "      <td>No</td>\n",
       "      <td>No</td>\n",
       "      <td>No</td>\n",
       "      <td>No</td>\n",
       "      <td>No</td>\n",
       "      <td>No</td>\n",
       "      <td>NaN</td>\n",
       "      <td>2015</td>\n",
       "      <td>11</td>\n",
       "      <td>2015-11</td>\n",
       "    </tr>\n",
       "    <tr>\n",
       "      <th>1257</th>\n",
       "      <td>2015-11-30 21:25:00</td>\n",
       "      <td>46</td>\n",
       "      <td>Female</td>\n",
       "      <td>United States</td>\n",
       "      <td>NC</td>\n",
       "      <td>No</td>\n",
       "      <td>No</td>\n",
       "      <td>No</td>\n",
       "      <td>Unknown</td>\n",
       "      <td>100-500</td>\n",
       "      <td>...</td>\n",
       "      <td>No</td>\n",
       "      <td>No</td>\n",
       "      <td>No</td>\n",
       "      <td>No</td>\n",
       "      <td>No</td>\n",
       "      <td>No</td>\n",
       "      <td>NaN</td>\n",
       "      <td>2015</td>\n",
       "      <td>11</td>\n",
       "      <td>2015-11</td>\n",
       "    </tr>\n",
       "    <tr>\n",
       "      <th>1258</th>\n",
       "      <td>2016-02-01 23:04:00</td>\n",
       "      <td>25</td>\n",
       "      <td>Male</td>\n",
       "      <td>United States</td>\n",
       "      <td>IL</td>\n",
       "      <td>No</td>\n",
       "      <td>Yes</td>\n",
       "      <td>Yes</td>\n",
       "      <td>Sometimes</td>\n",
       "      <td>26-100</td>\n",
       "      <td>...</td>\n",
       "      <td>Some Of Them</td>\n",
       "      <td>No</td>\n",
       "      <td>No</td>\n",
       "      <td>No</td>\n",
       "      <td>Don'T Know</td>\n",
       "      <td>No</td>\n",
       "      <td>NaN</td>\n",
       "      <td>2016</td>\n",
       "      <td>2</td>\n",
       "      <td>2016-02</td>\n",
       "    </tr>\n",
       "  </tbody>\n",
       "</table>\n",
       "<p>1251 rows × 30 columns</p>\n",
       "</div>"
      ],
      "text/plain": [
       "               Timestamp  Age  Gender         Country state self_employed  \\\n",
       "0    2014-08-27 11:29:00   37  Female   United States    IL       Unknown   \n",
       "1    2014-08-27 11:29:00   44    Male   United States    IN       Unknown   \n",
       "2    2014-08-27 11:29:00   32    Male          Canada   NaN       Unknown   \n",
       "3    2014-08-27 11:29:00   31    Male  United Kingdom   NaN       Unknown   \n",
       "4    2014-08-27 11:30:00   31    Male   United States    TX       Unknown   \n",
       "...                  ...  ...     ...             ...   ...           ...   \n",
       "1254 2015-09-12 11:17:00   26    Male  United Kingdom   NaN            No   \n",
       "1255 2015-09-26 01:07:00   32    Male   United States    IL            No   \n",
       "1256 2015-11-07 12:36:00   34    Male   United States    CA            No   \n",
       "1257 2015-11-30 21:25:00   46  Female   United States    NC            No   \n",
       "1258 2016-02-01 23:04:00   25    Male   United States    IL            No   \n",
       "\n",
       "     family_history treatment work_interfere no_employees  ...     coworkers  \\\n",
       "0                No       Yes          Often          NaN  ...  Some Of Them   \n",
       "1                No        No         Rarely        1000+  ...            No   \n",
       "2                No        No         Rarely          NaN  ...           Yes   \n",
       "3               Yes       Yes          Often       26-100  ...  Some Of Them   \n",
       "4                No        No          Never      100-500  ...  Some Of Them   \n",
       "...             ...       ...            ...          ...  ...           ...   \n",
       "1254             No       Yes        Unknown       26-100  ...  Some Of Them   \n",
       "1255            Yes       Yes          Often       26-100  ...  Some Of Them   \n",
       "1256            Yes       Yes      Sometimes        1000+  ...            No   \n",
       "1257             No        No        Unknown      100-500  ...            No   \n",
       "1258            Yes       Yes      Sometimes       26-100  ...  Some Of Them   \n",
       "\n",
       "        supervisor mental_health_interview phys_health_interview  \\\n",
       "0              Yes                      No                 Maybe   \n",
       "1               No                      No                    No   \n",
       "2              Yes                     Yes                   Yes   \n",
       "3               No                   Maybe                 Maybe   \n",
       "4              Yes                     Yes                   Yes   \n",
       "...            ...                     ...                   ...   \n",
       "1254  Some Of Them                      No                    No   \n",
       "1255           Yes                      No                    No   \n",
       "1256            No                      No                    No   \n",
       "1257            No                      No                    No   \n",
       "1258            No                      No                    No   \n",
       "\n",
       "     mental_vs_physical obs_consequence comments  year month year_month  \n",
       "0                   Yes              No      NaN  2014     8    2014-08  \n",
       "1            Don'T Know              No      NaN  2014     8    2014-08  \n",
       "2                    No              No      NaN  2014     8    2014-08  \n",
       "3                    No             Yes      NaN  2014     8    2014-08  \n",
       "4            Don'T Know              No      NaN  2014     8    2014-08  \n",
       "...                 ...             ...      ...   ...   ...        ...  \n",
       "1254         Don'T Know              No      NaN  2015     9    2015-09  \n",
       "1255                Yes              No      NaN  2015     9    2015-09  \n",
       "1256                 No              No      NaN  2015    11    2015-11  \n",
       "1257                 No              No      NaN  2015    11    2015-11  \n",
       "1258         Don'T Know              No      NaN  2016     2    2016-02  \n",
       "\n",
       "[1251 rows x 30 columns]"
      ]
     },
     "execution_count": 51,
     "metadata": {},
     "output_type": "execute_result"
    }
   ],
   "source": [
    "df['Timestamp'] = pd.to_datetime(df['Timestamp'], errors='coerce' , format= '%d-%m-%Y %H:%M')\n",
    "df['year'] = df['Timestamp'].dt.year\n",
    "df['month'] = df['Timestamp'].dt.month\n",
    "df['year_month'] = df['Timestamp'].dt.to_period('M')\n",
    "df"
   ]
  },
  {
   "cell_type": "code",
   "execution_count": 52,
   "id": "115457f5-a875-408d-9d0f-e8185c600ee0",
   "metadata": {},
   "outputs": [
    {
     "data": {
      "text/html": [
       "<div>\n",
       "<style scoped>\n",
       "    .dataframe tbody tr th:only-of-type {\n",
       "        vertical-align: middle;\n",
       "    }\n",
       "\n",
       "    .dataframe tbody tr th {\n",
       "        vertical-align: top;\n",
       "    }\n",
       "\n",
       "    .dataframe thead th {\n",
       "        text-align: right;\n",
       "    }\n",
       "</style>\n",
       "<table border=\"1\" class=\"dataframe\">\n",
       "  <thead>\n",
       "    <tr style=\"text-align: right;\">\n",
       "      <th></th>\n",
       "      <th>Timestamp</th>\n",
       "      <th>year</th>\n",
       "      <th>month</th>\n",
       "      <th>year_month</th>\n",
       "      <th>Age</th>\n",
       "      <th>Gender</th>\n",
       "      <th>Country</th>\n",
       "      <th>self_employed</th>\n",
       "      <th>family_history</th>\n",
       "      <th>treatment</th>\n",
       "      <th>...</th>\n",
       "      <th>anonymity</th>\n",
       "      <th>leave</th>\n",
       "      <th>mental_health_consequence</th>\n",
       "      <th>phys_health_consequence</th>\n",
       "      <th>coworkers</th>\n",
       "      <th>supervisor</th>\n",
       "      <th>mental_health_interview</th>\n",
       "      <th>phys_health_interview</th>\n",
       "      <th>mental_vs_physical</th>\n",
       "      <th>obs_consequence</th>\n",
       "    </tr>\n",
       "  </thead>\n",
       "  <tbody>\n",
       "    <tr>\n",
       "      <th>0</th>\n",
       "      <td>2014-08-27 11:29:00</td>\n",
       "      <td>2014</td>\n",
       "      <td>8</td>\n",
       "      <td>2014-08</td>\n",
       "      <td>37</td>\n",
       "      <td>Female</td>\n",
       "      <td>United States</td>\n",
       "      <td>Unknown</td>\n",
       "      <td>No</td>\n",
       "      <td>Yes</td>\n",
       "      <td>...</td>\n",
       "      <td>Yes</td>\n",
       "      <td>Somewhat Easy</td>\n",
       "      <td>No</td>\n",
       "      <td>No</td>\n",
       "      <td>Some Of Them</td>\n",
       "      <td>Yes</td>\n",
       "      <td>No</td>\n",
       "      <td>Maybe</td>\n",
       "      <td>Yes</td>\n",
       "      <td>No</td>\n",
       "    </tr>\n",
       "    <tr>\n",
       "      <th>1</th>\n",
       "      <td>2014-08-27 11:29:00</td>\n",
       "      <td>2014</td>\n",
       "      <td>8</td>\n",
       "      <td>2014-08</td>\n",
       "      <td>44</td>\n",
       "      <td>Male</td>\n",
       "      <td>United States</td>\n",
       "      <td>Unknown</td>\n",
       "      <td>No</td>\n",
       "      <td>No</td>\n",
       "      <td>...</td>\n",
       "      <td>Don'T Know</td>\n",
       "      <td>Don'T Know</td>\n",
       "      <td>Maybe</td>\n",
       "      <td>No</td>\n",
       "      <td>No</td>\n",
       "      <td>No</td>\n",
       "      <td>No</td>\n",
       "      <td>No</td>\n",
       "      <td>Don'T Know</td>\n",
       "      <td>No</td>\n",
       "    </tr>\n",
       "    <tr>\n",
       "      <th>2</th>\n",
       "      <td>2014-08-27 11:29:00</td>\n",
       "      <td>2014</td>\n",
       "      <td>8</td>\n",
       "      <td>2014-08</td>\n",
       "      <td>32</td>\n",
       "      <td>Male</td>\n",
       "      <td>Canada</td>\n",
       "      <td>Unknown</td>\n",
       "      <td>No</td>\n",
       "      <td>No</td>\n",
       "      <td>...</td>\n",
       "      <td>Don'T Know</td>\n",
       "      <td>Somewhat Difficult</td>\n",
       "      <td>No</td>\n",
       "      <td>No</td>\n",
       "      <td>Yes</td>\n",
       "      <td>Yes</td>\n",
       "      <td>Yes</td>\n",
       "      <td>Yes</td>\n",
       "      <td>No</td>\n",
       "      <td>No</td>\n",
       "    </tr>\n",
       "    <tr>\n",
       "      <th>3</th>\n",
       "      <td>2014-08-27 11:29:00</td>\n",
       "      <td>2014</td>\n",
       "      <td>8</td>\n",
       "      <td>2014-08</td>\n",
       "      <td>31</td>\n",
       "      <td>Male</td>\n",
       "      <td>United Kingdom</td>\n",
       "      <td>Unknown</td>\n",
       "      <td>Yes</td>\n",
       "      <td>Yes</td>\n",
       "      <td>...</td>\n",
       "      <td>No</td>\n",
       "      <td>Somewhat Difficult</td>\n",
       "      <td>Yes</td>\n",
       "      <td>Yes</td>\n",
       "      <td>Some Of Them</td>\n",
       "      <td>No</td>\n",
       "      <td>Maybe</td>\n",
       "      <td>Maybe</td>\n",
       "      <td>No</td>\n",
       "      <td>Yes</td>\n",
       "    </tr>\n",
       "    <tr>\n",
       "      <th>4</th>\n",
       "      <td>2014-08-27 11:30:00</td>\n",
       "      <td>2014</td>\n",
       "      <td>8</td>\n",
       "      <td>2014-08</td>\n",
       "      <td>31</td>\n",
       "      <td>Male</td>\n",
       "      <td>United States</td>\n",
       "      <td>Unknown</td>\n",
       "      <td>No</td>\n",
       "      <td>No</td>\n",
       "      <td>...</td>\n",
       "      <td>Don'T Know</td>\n",
       "      <td>Don'T Know</td>\n",
       "      <td>No</td>\n",
       "      <td>No</td>\n",
       "      <td>Some Of Them</td>\n",
       "      <td>Yes</td>\n",
       "      <td>Yes</td>\n",
       "      <td>Yes</td>\n",
       "      <td>Don'T Know</td>\n",
       "      <td>No</td>\n",
       "    </tr>\n",
       "    <tr>\n",
       "      <th>...</th>\n",
       "      <td>...</td>\n",
       "      <td>...</td>\n",
       "      <td>...</td>\n",
       "      <td>...</td>\n",
       "      <td>...</td>\n",
       "      <td>...</td>\n",
       "      <td>...</td>\n",
       "      <td>...</td>\n",
       "      <td>...</td>\n",
       "      <td>...</td>\n",
       "      <td>...</td>\n",
       "      <td>...</td>\n",
       "      <td>...</td>\n",
       "      <td>...</td>\n",
       "      <td>...</td>\n",
       "      <td>...</td>\n",
       "      <td>...</td>\n",
       "      <td>...</td>\n",
       "      <td>...</td>\n",
       "      <td>...</td>\n",
       "      <td>...</td>\n",
       "    </tr>\n",
       "    <tr>\n",
       "      <th>1254</th>\n",
       "      <td>2015-09-12 11:17:00</td>\n",
       "      <td>2015</td>\n",
       "      <td>9</td>\n",
       "      <td>2015-09</td>\n",
       "      <td>26</td>\n",
       "      <td>Male</td>\n",
       "      <td>United Kingdom</td>\n",
       "      <td>No</td>\n",
       "      <td>No</td>\n",
       "      <td>Yes</td>\n",
       "      <td>...</td>\n",
       "      <td>Don'T Know</td>\n",
       "      <td>Somewhat Easy</td>\n",
       "      <td>No</td>\n",
       "      <td>No</td>\n",
       "      <td>Some Of Them</td>\n",
       "      <td>Some Of Them</td>\n",
       "      <td>No</td>\n",
       "      <td>No</td>\n",
       "      <td>Don'T Know</td>\n",
       "      <td>No</td>\n",
       "    </tr>\n",
       "    <tr>\n",
       "      <th>1255</th>\n",
       "      <td>2015-09-26 01:07:00</td>\n",
       "      <td>2015</td>\n",
       "      <td>9</td>\n",
       "      <td>2015-09</td>\n",
       "      <td>32</td>\n",
       "      <td>Male</td>\n",
       "      <td>United States</td>\n",
       "      <td>No</td>\n",
       "      <td>Yes</td>\n",
       "      <td>Yes</td>\n",
       "      <td>...</td>\n",
       "      <td>Yes</td>\n",
       "      <td>Somewhat Difficult</td>\n",
       "      <td>No</td>\n",
       "      <td>No</td>\n",
       "      <td>Some Of Them</td>\n",
       "      <td>Yes</td>\n",
       "      <td>No</td>\n",
       "      <td>No</td>\n",
       "      <td>Yes</td>\n",
       "      <td>No</td>\n",
       "    </tr>\n",
       "    <tr>\n",
       "      <th>1256</th>\n",
       "      <td>2015-11-07 12:36:00</td>\n",
       "      <td>2015</td>\n",
       "      <td>11</td>\n",
       "      <td>2015-11</td>\n",
       "      <td>34</td>\n",
       "      <td>Male</td>\n",
       "      <td>United States</td>\n",
       "      <td>No</td>\n",
       "      <td>Yes</td>\n",
       "      <td>Yes</td>\n",
       "      <td>...</td>\n",
       "      <td>Don'T Know</td>\n",
       "      <td>Somewhat Difficult</td>\n",
       "      <td>Yes</td>\n",
       "      <td>Yes</td>\n",
       "      <td>No</td>\n",
       "      <td>No</td>\n",
       "      <td>No</td>\n",
       "      <td>No</td>\n",
       "      <td>No</td>\n",
       "      <td>No</td>\n",
       "    </tr>\n",
       "    <tr>\n",
       "      <th>1257</th>\n",
       "      <td>2015-11-30 21:25:00</td>\n",
       "      <td>2015</td>\n",
       "      <td>11</td>\n",
       "      <td>2015-11</td>\n",
       "      <td>46</td>\n",
       "      <td>Female</td>\n",
       "      <td>United States</td>\n",
       "      <td>No</td>\n",
       "      <td>No</td>\n",
       "      <td>No</td>\n",
       "      <td>...</td>\n",
       "      <td>Don'T Know</td>\n",
       "      <td>Don'T Know</td>\n",
       "      <td>Yes</td>\n",
       "      <td>No</td>\n",
       "      <td>No</td>\n",
       "      <td>No</td>\n",
       "      <td>No</td>\n",
       "      <td>No</td>\n",
       "      <td>No</td>\n",
       "      <td>No</td>\n",
       "    </tr>\n",
       "    <tr>\n",
       "      <th>1258</th>\n",
       "      <td>2016-02-01 23:04:00</td>\n",
       "      <td>2016</td>\n",
       "      <td>2</td>\n",
       "      <td>2016-02</td>\n",
       "      <td>25</td>\n",
       "      <td>Male</td>\n",
       "      <td>United States</td>\n",
       "      <td>No</td>\n",
       "      <td>Yes</td>\n",
       "      <td>Yes</td>\n",
       "      <td>...</td>\n",
       "      <td>Yes</td>\n",
       "      <td>Don'T Know</td>\n",
       "      <td>Maybe</td>\n",
       "      <td>No</td>\n",
       "      <td>Some Of Them</td>\n",
       "      <td>No</td>\n",
       "      <td>No</td>\n",
       "      <td>No</td>\n",
       "      <td>Don'T Know</td>\n",
       "      <td>No</td>\n",
       "    </tr>\n",
       "  </tbody>\n",
       "</table>\n",
       "<p>1251 rows × 28 columns</p>\n",
       "</div>"
      ],
      "text/plain": [
       "               Timestamp  year  month year_month  Age  Gender         Country  \\\n",
       "0    2014-08-27 11:29:00  2014      8    2014-08   37  Female   United States   \n",
       "1    2014-08-27 11:29:00  2014      8    2014-08   44    Male   United States   \n",
       "2    2014-08-27 11:29:00  2014      8    2014-08   32    Male          Canada   \n",
       "3    2014-08-27 11:29:00  2014      8    2014-08   31    Male  United Kingdom   \n",
       "4    2014-08-27 11:30:00  2014      8    2014-08   31    Male   United States   \n",
       "...                  ...   ...    ...        ...  ...     ...             ...   \n",
       "1254 2015-09-12 11:17:00  2015      9    2015-09   26    Male  United Kingdom   \n",
       "1255 2015-09-26 01:07:00  2015      9    2015-09   32    Male   United States   \n",
       "1256 2015-11-07 12:36:00  2015     11    2015-11   34    Male   United States   \n",
       "1257 2015-11-30 21:25:00  2015     11    2015-11   46  Female   United States   \n",
       "1258 2016-02-01 23:04:00  2016      2    2016-02   25    Male   United States   \n",
       "\n",
       "     self_employed family_history treatment  ...   anonymity  \\\n",
       "0          Unknown             No       Yes  ...         Yes   \n",
       "1          Unknown             No        No  ...  Don'T Know   \n",
       "2          Unknown             No        No  ...  Don'T Know   \n",
       "3          Unknown            Yes       Yes  ...          No   \n",
       "4          Unknown             No        No  ...  Don'T Know   \n",
       "...            ...            ...       ...  ...         ...   \n",
       "1254            No             No       Yes  ...  Don'T Know   \n",
       "1255            No            Yes       Yes  ...         Yes   \n",
       "1256            No            Yes       Yes  ...  Don'T Know   \n",
       "1257            No             No        No  ...  Don'T Know   \n",
       "1258            No            Yes       Yes  ...         Yes   \n",
       "\n",
       "                   leave mental_health_consequence phys_health_consequence  \\\n",
       "0          Somewhat Easy                        No                      No   \n",
       "1             Don'T Know                     Maybe                      No   \n",
       "2     Somewhat Difficult                        No                      No   \n",
       "3     Somewhat Difficult                       Yes                     Yes   \n",
       "4             Don'T Know                        No                      No   \n",
       "...                  ...                       ...                     ...   \n",
       "1254       Somewhat Easy                        No                      No   \n",
       "1255  Somewhat Difficult                        No                      No   \n",
       "1256  Somewhat Difficult                       Yes                     Yes   \n",
       "1257          Don'T Know                       Yes                      No   \n",
       "1258          Don'T Know                     Maybe                      No   \n",
       "\n",
       "         coworkers    supervisor mental_health_interview  \\\n",
       "0     Some Of Them           Yes                      No   \n",
       "1               No            No                      No   \n",
       "2              Yes           Yes                     Yes   \n",
       "3     Some Of Them            No                   Maybe   \n",
       "4     Some Of Them           Yes                     Yes   \n",
       "...            ...           ...                     ...   \n",
       "1254  Some Of Them  Some Of Them                      No   \n",
       "1255  Some Of Them           Yes                      No   \n",
       "1256            No            No                      No   \n",
       "1257            No            No                      No   \n",
       "1258  Some Of Them            No                      No   \n",
       "\n",
       "     phys_health_interview mental_vs_physical obs_consequence  \n",
       "0                    Maybe                Yes              No  \n",
       "1                       No         Don'T Know              No  \n",
       "2                      Yes                 No              No  \n",
       "3                    Maybe                 No             Yes  \n",
       "4                      Yes         Don'T Know              No  \n",
       "...                    ...                ...             ...  \n",
       "1254                    No         Don'T Know              No  \n",
       "1255                    No                Yes              No  \n",
       "1256                    No                 No              No  \n",
       "1257                    No                 No              No  \n",
       "1258                    No         Don'T Know              No  \n",
       "\n",
       "[1251 rows x 28 columns]"
      ]
     },
     "execution_count": 52,
     "metadata": {},
     "output_type": "execute_result"
    }
   ],
   "source": [
    "df.drop(columns=['state', 'comments'], inplace=True, errors='ignore')\n",
    "time_cols = ['Timestamp', 'year', 'month', 'year_month']\n",
    "other_cols = [col for col in df.columns if col not in time_cols]\n",
    "df = df[time_cols + other_cols]\n",
    "df"
   ]
  },
  {
   "cell_type": "code",
   "execution_count": null,
   "id": "a21c2f10-90ff-468c-a401-c9c96046a158",
   "metadata": {},
   "outputs": [],
   "source": []
  },
  {
   "cell_type": "markdown",
   "id": "e3f38fc7-6bb5-4e35-9ca6-4a7ff10ce7ef",
   "metadata": {},
   "source": [
    "# Insights"
   ]
  },
  {
   "cell_type": "code",
   "execution_count": null,
   "id": "975cab91-b0cd-4616-a377-f731fe1d538a",
   "metadata": {},
   "outputs": [],
   "source": []
  },
  {
   "cell_type": "markdown",
   "id": "42639541-6898-4068-b72e-581972f7c384",
   "metadata": {},
   "source": [
    "####  How does the frequency of mental health illness and attitudes towards mental health vary by geographic location?\n"
   ]
  },
  {
   "cell_type": "code",
   "execution_count": 57,
   "id": "07b95ee5-a015-418f-91b7-08921ddca895",
   "metadata": {},
   "outputs": [
    {
     "name": "stdout",
     "output_type": "stream",
     "text": [
      "                No (%)  Yes (%)\n",
      "Country                        \n",
      "United States    45.31    54.69\n",
      "United Kingdom   50.00    50.00\n",
      "Canada           48.61    51.39\n",
      "Germany          53.33    46.67\n",
      "Netherlands      66.67    33.33\n",
      "Ireland          51.85    48.15\n",
      "Australia        38.10    61.90\n",
      "France           84.62    15.38\n",
      "Other            68.10    31.90\n"
     ]
    }
   ],
   "source": [
    "# A. Treatment Rate by Country\n",
    "\n",
    "treatment_by_country = (\n",
    "    df.groupby('Country', observed=True)['treatment']\n",
    "    .value_counts(normalize=True)\n",
    "    .unstack()\n",
    "    .fillna(0)\n",
    ")\n",
    "treatment_percent = (treatment_by_country * 100).round(2)\n",
    "treatment_percent.columns = ['No (%)', 'Yes (%)']\n",
    "print(treatment_percent)\n"
   ]
  },
  {
   "cell_type": "code",
   "execution_count": 60,
   "id": "90b78a1c-e85f-498b-a6de-aae80bfd883c",
   "metadata": {},
   "outputs": [
    {
     "name": "stdout",
     "output_type": "stream",
     "text": [
      "                Don'T Know (%)  No (%)  Yes (%)\n",
      "Country                                        \n",
      "United States            35.12   39.81    25.07\n",
      "United Kingdom           22.83   63.04    14.13\n",
      "Canada                   29.17   58.33    12.50\n",
      "Germany                  15.56   75.56     8.89\n",
      "Netherlands              29.63   59.26    11.11\n",
      "Ireland                  11.11   77.78    11.11\n",
      "Australia                14.29   47.62    38.10\n",
      "France                   15.38   84.62     0.00\n",
      "Other                    12.93   81.03     6.03\n"
     ]
    }
   ],
   "source": [
    "# B. Seeking Help Rate by Country\n",
    "\n",
    "seek_help_by_country = (\n",
    "    df.groupby('Country', observed=True)['seek_help']\n",
    "    .value_counts(normalize=True)\n",
    "    .unstack()\n",
    "    .fillna(0)\n",
    ")\n",
    "seek_help_percent = (seek_help_by_country * 100).round(2)\n",
    "seek_help_percent.columns = [f\"{col} (%)\" for col in seek_help_percent.columns]\n",
    "\n",
    "print(seek_help_percent)\n"
   ]
  },
  {
   "cell_type": "code",
   "execution_count": 63,
   "id": "62898631-fed8-4fa8-ab6f-b1e206b77352",
   "metadata": {},
   "outputs": [
    {
     "name": "stdout",
     "output_type": "stream",
     "text": [
      "                Never (%)  Often (%)  Rarely (%)  Sometimes (%)  Unknown (%)\n",
      "Country                                                                     \n",
      "United States       16.62      10.72       14.88          38.74        19.03\n",
      "United Kingdom      17.39       9.24       11.41          38.04        23.91\n",
      "Canada              22.22      15.28        9.72          40.28        12.50\n",
      "Germany              8.89      13.33       13.33          37.78        26.67\n",
      "Netherlands         18.52      14.81       18.52          18.52        29.63\n",
      "Ireland             22.22       7.41       14.81          40.74        14.81\n",
      "Australia           14.29      23.81        9.52          47.62         4.76\n",
      "France              15.38       7.69        0.00           7.69        69.23\n",
      "Other               17.24      12.07       14.66          27.59        28.45\n"
     ]
    }
   ],
   "source": [
    "# Work Interference by Country\n",
    "\n",
    "work_interfere_by_country =( \n",
    "df.groupby('Country', observed =True)['work_interfere']\n",
    "    .value_counts(normalize=True).unstack().fillna(0))\n",
    "work_interfere_percent = (work_interfere_by_country * 100).round(2)\n",
    "work_interfere_percent.columns = [f\"{col} (%)\" for col in work_interfere_percent.columns]\n",
    "print(work_interfere_percent.head(10))\n"
   ]
  },
  {
   "cell_type": "code",
   "execution_count": null,
   "id": "ad555f9f-9fc8-4625-9948-471ff7f598fa",
   "metadata": {},
   "outputs": [],
   "source": [
    "\n"
   ]
  },
  {
   "cell_type": "markdown",
   "id": "9d213d12-fda2-429f-830b-a84dccf66828",
   "metadata": {},
   "source": [
    "#### What are the strongest predictors of mental health illness or certain attitudes towards mental health in the workplace?\""
   ]
  },
  {
   "cell_type": "code",
   "execution_count": 64,
   "id": "d4dba386-bfd0-49d0-8a75-a42bdacc8ab9",
   "metadata": {},
   "outputs": [],
   "source": [
    "\n",
    "import numpy as np\n",
    "import seaborn as sns\n",
    "import matplotlib.pyplot as plt\n",
    "from sklearn.preprocessing import LabelEncoder\n",
    "from sklearn.model_selection import train_test_split\n",
    "from sklearn.linear_model import LogisticRegression\n",
    "from sklearn.metrics import classification_report\n"
   ]
  },
  {
   "cell_type": "code",
   "execution_count": 70,
   "id": "dd9e9dbe-b1d5-4175-ac99-101fe7e45cef",
   "metadata": {},
   "outputs": [
    {
     "name": "stdout",
     "output_type": "stream",
     "text": [
      "              precision    recall  f1-score   support\n",
      "\n",
      "           0       0.51      0.65      0.57       113\n",
      "           1       0.63      0.50      0.56       138\n",
      "\n",
      "    accuracy                           0.57       251\n",
      "   macro avg       0.57      0.57      0.57       251\n",
      "weighted avg       0.58      0.57      0.56       251\n",
      "\n"
     ]
    },
    {
     "data": {
      "image/png": "[encoded data removed]",
      "text/plain": [
       "<Figure size 1000x600 with 1 Axes>"
      ]
     },
     "metadata": {},
     "output_type": "display_data"
    }
   ],
   "source": [
    "df['treatment_binary'] = df['treatment'].map({'Yes': 1, 'No': 0})\n",
    "df = df.dropna(subset=['treatment_binary'])\n",
    "features = ['Age', 'Gender', 'benefits', 'care_options', 'work_interfere',\n",
    "            'seek_help', 'wellness_program', 'anonymity', 'leave',\n",
    "            'mental_health_consequence', 'coworkers', 'supervisor']\n",
    "df[features] = df[features].fillna('Unknown')\n",
    "# Encoding all categorical columns\n",
    "le = LabelEncoder()\n",
    "for col in features:\n",
    "    if df[col].dtype == 'object':\n",
    "        df[col] = le.fit_transform(df[col])\n",
    "# Split data\n",
    "X = df[features]\n",
    "y = df['treatment_binary']\n",
    "\n",
    "X_train, X_test, y_train, y_test = train_test_split(X, y, test_size=0.2, random_state=42)\n",
    "\n",
    "# Train logistic regression model\n",
    "model = LogisticRegression(max_iter=1000)\n",
    "model.fit(X_train, y_train)\n",
    "\n",
    "# Evaluate\n",
    "y_pred = model.predict(X_test)\n",
    "print(classification_report(y_test, y_pred))\n",
    "# Show feature importance\n",
    "coeffs = pd.Series(model.coef_[0], index=features)\n",
    "coeffs = coeffs.sort_values(ascending=False)\n",
    "\n",
    "plt.figure(figsize=(10,6))\n",
    "sns.barplot(x=coeffs.values, y=coeffs.index)\n",
    "plt.title(\"Predictors of Mental Health Treatment (Logistic Regression)\")\n",
    "plt.xlabel(\"Effect on Likelihood of Seeking Treatment\")\n",
    "plt.show()\n"
   ]
  },
  {
   "cell_type": "markdown",
   "id": "6e17ab8c-ce12-4b22-b5fe-7c674c54b675",
   "metadata": {},
   "source": [
    "### Metric\t                    Meaning\n",
    "##### Precision\t-  Out of all predicted positive cases, how many were actually positive.\n",
    "##### Recall\t    -  Out of all actual positive cases, how many did the model catch.\n",
    "##### F1-score\t-  Harmonic mean of precision and recall — balances the two.\n",
    "##### Support\t-  Number of actual instances in each class."
   ]
  },
  {
   "cell_type": "markdown",
   "id": "a7220fec-e5e0-4f8b-8e90-4ae151c7dac2",
   "metadata": {},
   "source": [
    "##### The model isn't perfect. It slightly favors predicting \"No\" over \"Yes\"."
   ]
  },
  {
   "cell_type": "code",
   "execution_count": null,
   "id": "0e0d487a-de56-4e9c-b1a4-9006a508284f",
   "metadata": {},
   "outputs": [],
   "source": []
  },
  {
   "cell_type": "markdown",
   "id": "840c4dde-d0ed-4521-b3a2-c2dffacf3f7e",
   "metadata": {},
   "source": [
    "### Monthly Trend of Mental Health Treatment"
   ]
  },
  {
   "cell_type": "code",
   "execution_count": 73,
   "id": "3c3b806c-002e-4db9-95a8-b7fcebaefdd6",
   "metadata": {},
   "outputs": [
    {
     "data": {
      "image/png": "[encoded data removed]",
      "text/plain": [
       "<Figure size 1200x600 with 1 Axes>"
      ]
     },
     "metadata": {},
     "output_type": "display_data"
    }
   ],
   "source": [
    "monthly_treatment_trend = df.groupby(['year_month', 'treatment']).size().unstack(fill_value=0)\n",
    "monthly_treatment_trend.plot(kind='line', figsize=(12, 6), marker='o', title='Monthly Trend of Mental Health Treatment')\n",
    "plt.xlabel('Year-Month')\n",
    "plt.ylabel('Number of Responses')\n",
    "plt.xticks(rotation=45)\n",
    "plt.grid(True)\n",
    "plt.tight_layout()\n",
    "plt.show()"
   ]
  },
  {
   "cell_type": "markdown",
   "id": "3c252c66-f130-4dce-a7b8-15f6e0b9b986",
   "metadata": {},
   "source": [
    "##### This line graph displays how the number of people seeking (Yes) or not seeking (No) mental health treatment has changed over time on a monthly basis.\n",
    "\n",
    "##### It shows mental health treatment trends over time. A large spike in responses appears initially, likely during survey launch. Overall, more people report seeking treatment than not. After the initial month, response counts drop but remain consistent. This suggests growing awareness or willingness to seek help over time.\n"
   ]
  },
  {
   "cell_type": "code",
   "execution_count": null,
   "id": "64284956-24fe-40b0-97bc-269d0386ccda",
   "metadata": {},
   "outputs": [],
   "source": []
  },
  {
   "cell_type": "markdown",
   "id": "044c2d2a-7c69-43d5-bfc3-075681201ffb",
   "metadata": {},
   "source": [
    "### Mental Health Treatment vs Workplace Benefits"
   ]
  },
  {
   "cell_type": "code",
   "execution_count": 77,
   "id": "2c3a599c-911f-4c77-be2f-c0e9042b40d7",
   "metadata": {},
   "outputs": [
    {
     "data": {
      "image/png": "[encoded data removed]",
      "text/plain": [
       "<Figure size 1000x600 with 1 Axes>"
      ]
     },
     "metadata": {},
     "output_type": "display_data"
    }
   ],
   "source": [
    "benefits_mapping = {\n",
    "    1: 'Yes',\n",
    "    0: 'No',\n",
    "    2: \"Don't know\"\n",
    "}\n",
    "df['benefits_label'] = df['benefits'].map(benefits_mapping)\n",
    "benefits_vs_treatment = pd.crosstab(df['benefits_label'], df['treatment'], normalize='index') * 100\n",
    "\n",
    "benefits_vs_treatment.plot(\n",
    "    kind='bar',\n",
    "    stacked=True,\n",
    "    figsize=(10, 6),\n",
    "    colormap='viridis',\n",
    "    title='Treatment vs Mental Health Benefits Provided by Employer'\n",
    ")\n",
    "plt.xlabel('Are Mental Health Benefits Provided by Employer?')\n",
    "plt.ylabel('Percentage of Respondents')\n",
    "plt.xticks(rotation=45)\n",
    "plt.grid(axis='y')\n",
    "plt.tight_layout()\n",
    "plt.show()"
   ]
  },
  {
   "cell_type": "markdown",
   "id": "89de9bd2-61ab-490e-86f0-be3456b756d8",
   "metadata": {},
   "source": [
    "##### Respondents aware of employer-provided mental health benefits are more likely to seek treatment than those who aren't. Interestingly, even those unsure about benefits have a high treatment rate, possibly due to external support. This shows that clear communication and actual availability of benefits can positively impact employees' mental health decisions."
   ]
  },
  {
   "cell_type": "code",
   "execution_count": null,
   "id": "b2e89f53-3c5c-4691-9160-ae5aa06f19f6",
   "metadata": {},
   "outputs": [],
   "source": []
  },
  {
   "cell_type": "code",
   "execution_count": 78,
   "id": "39273af4-c794-4bfb-91a5-4f1e1ff67bea",
   "metadata": {},
   "outputs": [],
   "source": [
    "### Treatment vs Ease of Taking Leave for Mental Health"
   ]
  },
  {
   "cell_type": "code",
   "execution_count": 79,
   "id": "ef457875-f179-4330-b8eb-773519b0fccd",
   "metadata": {},
   "outputs": [
    {
     "data": {
      "image/png": "[encoded data removed]",
      "text/plain": [
       "<Figure size 1000x600 with 1 Axes>"
      ]
     },
     "metadata": {},
     "output_type": "display_data"
    }
   ],
   "source": [
    "leave_treatment = (\n",
    "    df.groupby('leave')['treatment']\n",
    "    .value_counts(normalize=True)\n",
    "    .unstack()\n",
    "    .fillna(0) * 100\n",
    ")\n",
    "\n",
    "# Plot\n",
    "leave_treatment.plot(kind='bar', stacked=True, colormap='magma', figsize=(10, 6))\n",
    "plt.title('Treatment vs Ease of Taking Leave for Mental Health')\n",
    "plt.ylabel('Percentage of Respondents')\n",
    "plt.xlabel('Ease of Taking Leave')\n",
    "plt.xticks(rotation=45)\n",
    "plt.legend(title='treatment')\n",
    "plt.tight_layout()\n",
    "plt.show()"
   ]
  },
  {
   "cell_type": "markdown",
   "id": "3e630eee-57c9-4523-951e-e2a630c3f4d3",
   "metadata": {},
   "source": [
    "##### This stacked bar chart displays the percentage of employees who sought mental health treatment, categorized by how easy or difficult they felt it was to take leave for mental health reasons.\n",
    "\n",
    "\n",
    "##### Employees who found it \"very easy\" or \"somewhat easy\" to take leave showed a noticeably higher rate of seeking treatment. In contrast, those who found it \"very difficult\" were less likely to do so. This suggests that supportive leave policies can significantly influence mental health help-seeking behavior."
   ]
  },
  {
   "cell_type": "code",
   "execution_count": null,
   "id": "bb0a8898-7ba2-4b4d-9bb2-440f54e285b5",
   "metadata": {},
   "outputs": [],
   "source": []
  },
  {
   "cell_type": "markdown",
   "id": "c291db11-af7e-40e0-83a9-b62308ff1add",
   "metadata": {},
   "source": [
    "### Treatment vs Availability of Mental Health Care Options"
   ]
  },
  {
   "cell_type": "code",
   "execution_count": 80,
   "id": "25d4a3e1-8d65-46a8-8f63-4eff7e0e4aeb",
   "metadata": {},
   "outputs": [
    {
     "data": {
      "image/png": "[encoded data removed]",
      "text/plain": [
       "<Figure size 1000x600 with 1 Axes>"
      ]
     },
     "metadata": {},
     "output_type": "display_data"
    }
   ],
   "source": [
    "care_options_treatment = (\n",
    "    df.groupby('care_options')['treatment']\n",
    "    .value_counts(normalize=True)\n",
    "    .unstack()\n",
    "    .fillna(0) * 100\n",
    ")\n",
    "\n",
    "care_options_treatment.plot(kind='bar', stacked=True, colormap='viridis', figsize=(10, 6))\n",
    "plt.title('Treatment vs Availability of Mental Health Care Options')\n",
    "plt.ylabel('Percentage of Respondents')\n",
    "plt.xlabel('Are Mental Health Care Options Provided by Employer?')\n",
    "plt.xticks(rotation=45)\n",
    "plt.legend(title='treatment')\n",
    "plt.tight_layout()\n",
    "plt.show()\n"
   ]
  },
  {
   "cell_type": "markdown",
   "id": "944c901f-941b-4173-9257-25e71962e341",
   "metadata": {},
   "source": [
    "##### This graph displays how employees' decisions to seek treatment vary based on whether their employer offers mental health care options.\n",
    "\n",
    "\n",
    "##### Employees with access to mental health care options through their employer are significantly more likely to seek treatment. This suggests that offering such resources can reduce stigma and lower barriers to accessing help, promoting better mental health outcomes in the workplace.\n",
    "\n"
   ]
  },
  {
   "cell_type": "code",
   "execution_count": null,
   "id": "ecf35dbb-7ee7-426d-89e8-adfaa7c13839",
   "metadata": {},
   "outputs": [],
   "source": []
  },
  {
   "cell_type": "markdown",
   "id": "1b591b3f-bafc-4929-9dd6-f54d4cdf2ed6",
   "metadata": {},
   "source": [
    "### Distribution of Mental Health Treatment"
   ]
  },
  {
   "cell_type": "code",
   "execution_count": 83,
   "id": "474937e9-7149-4ae6-b058-3d5e042987cf",
   "metadata": {},
   "outputs": [
    {
     "data": {
      "image/png": "[encoded data removed]",
      "text/plain": [
       "<Figure size 640x480 with 1 Axes>"
      ]
     },
     "metadata": {},
     "output_type": "display_data"
    }
   ],
   "source": [
    "treatment_counts = df['treatment'].value_counts()\n",
    "treatment_counts.plot(kind='pie', autopct='%1.1f%%', startangle=90, colors=['#f94144', '#90be6d'])\n",
    "plt.title('Distribution of Mental Health Treatment')\n",
    "plt.ylabel('')\n",
    "plt.tight_layout()\n",
    "plt.show()"
   ]
  },
  {
   "cell_type": "markdown",
   "id": "6b857454-c32f-41a9-91e4-c2c72a4ac4db",
   "metadata": {},
   "source": [
    "##### This pie chart shows the proportion of people who have and haven't received mental health treatment. A larger slice for “Yes” indicates more openness or necessity to seek help. It helps organizations understand the scale of mental health engagement within their workforce."
   ]
  },
  {
   "cell_type": "code",
   "execution_count": null,
   "id": "3286e6d6-911d-44b8-9d4d-9d02b4f5873e",
   "metadata": {},
   "outputs": [],
   "source": []
  },
  {
   "cell_type": "markdown",
   "id": "81318409-2fe3-4868-87fa-06958007093e",
   "metadata": {},
   "source": [
    "###  Gender Distribution in the Survey"
   ]
  },
  {
   "cell_type": "code",
   "execution_count": 87,
   "id": "6960e960-4610-4273-bee0-b63c941b1dae",
   "metadata": {},
   "outputs": [
    {
     "data": {
      "image/png": "[encoded data removed]",
      "text/plain": [
       "<Figure size 640x480 with 1 Axes>"
      ]
     },
     "metadata": {},
     "output_type": "display_data"
    }
   ],
   "source": [
    "gender_counts = df['Gender'].value_counts()\n",
    "\n",
    "colors = ['#577590', '#f8961e', '#43aa8b', '#f94144']\n",
    "gender_counts.plot(kind='pie', autopct='%1.1f%%', startangle=90, colors=colors, wedgeprops={'width': 0.4})\n",
    "plt.title('Gender Distribution of Respondents')\n",
    "plt.ylabel('')\n",
    "plt.tight_layout()\n",
    "plt.show()\n"
   ]
  },
  {
   "cell_type": "markdown",
   "id": "a4b6f83b-b18c-4f70-b84b-7d61740082d0",
   "metadata": {},
   "source": [
    "##### The donut chart reveals the gender composition of the respondents. It’s useful for assessing whether mental health insights are skewed toward one gender. A balanced chart indicates diversity, while imbalance may require targeted outreach or better representation in future surveys.\n",
    "\n"
   ]
  },
  {
   "cell_type": "code",
   "execution_count": null,
   "id": "f6e95416-a37a-452e-87c4-6c3ab80932d7",
   "metadata": {},
   "outputs": [],
   "source": [
    "\n"
   ]
  },
  {
   "cell_type": "markdown",
   "id": "c48fd3e5-d763-4220-a04f-7deb3821294f",
   "metadata": {},
   "source": [
    "### Relationship Between Anonymity and Seeking Mental Health Treatment"
   ]
  },
  {
   "cell_type": "code",
   "execution_count": 88,
   "id": "fda9c56e-14ef-4ae1-8349-33e5c55237ef",
   "metadata": {},
   "outputs": [
    {
     "data": {
      "image/png": "[encoded data removed]",
      "text/plain": [
       "<Figure size 640x480 with 1 Axes>"
      ]
     },
     "metadata": {},
     "output_type": "display_data"
    }
   ],
   "source": [
    "anonymity_treatment = pd.crosstab(df['anonymity'], df['treatment'], normalize='index') * 100\n",
    "anonymity_treatment = anonymity_treatment[['Yes', 'No']]  # Ensure consistent order\n",
    "\n",
    "anonymity_treatment.plot(kind='barh', stacked=True, color=['#90be6d', '#f3722c'])\n",
    "plt.title('Mental Health Treatment vs Anonymity at Workplace')\n",
    "plt.xlabel('Percentage of Respondents')\n",
    "plt.ylabel('Is Anonymity Provided at Work?')\n",
    "plt.legend(title='Sought Treatment')\n",
    "plt.tight_layout()\n",
    "plt.show()\n"
   ]
  },
  {
   "cell_type": "markdown",
   "id": "b78f6704-b1f9-4d11-8c54-6368c83dc09e",
   "metadata": {},
   "source": [
    "##### This chart shows how the availability of anonymity at work impacts whether employees seek mental health treatment. Where anonymity is assured, more people tend to seek help. It highlights the importance of privacy in encouraging open mental health discussions and making employees feel safe to get support."
   ]
  },
  {
   "cell_type": "code",
   "execution_count": null,
   "id": "892d2012-49c8-44b7-b21c-c0a83fb193d0",
   "metadata": {},
   "outputs": [],
   "source": []
  },
  {
   "cell_type": "markdown",
   "id": "6004eb9b-8d3e-46d3-b08f-d6f85579da05",
   "metadata": {},
   "source": [
    "### Heatmap of Mental Health Treatment by Country and Work Interference"
   ]
  },
  {
   "cell_type": "code",
   "execution_count": 89,
   "id": "1537b384-4698-473a-ba90-0f66a21cbf58",
   "metadata": {},
   "outputs": [
    {
     "data": {
      "image/png": "[encoded data removed]",
      "text/plain": [
       "<Figure size 1200x600 with 2 Axes>"
      ]
     },
     "metadata": {},
     "output_type": "display_data"
    }
   ],
   "source": [
    "heat_data = (\n",
    "    pd.crosstab(index=df['Country'], columns=df['work_interfere'], values=df['treatment'].map({'Yes': 1, 'No': 0}),\n",
    "                aggfunc='mean')\n",
    "    .fillna(0) * 100\n",
    ")\n",
    "\n",
    "plt.figure(figsize=(12, 6))\n",
    "sns.heatmap(heat_data, annot=True, fmt=\".1f\", cmap='YlGnBu')\n",
    "plt.title('Treatment Rate (%) by Country and Work Interference Level')\n",
    "plt.xlabel('Work Interference')\n",
    "plt.ylabel('Country')\n",
    "plt.tight_layout()\n",
    "plt.show()"
   ]
  },
  {
   "cell_type": "markdown",
   "id": "6e8069b3-f71c-495e-b115-078c99ee254c",
   "metadata": {},
   "source": [
    "##### This heatmap illustrates how the likelihood of seeking mental health treatment changes depending on how much it interferes with work across different countries. Darker shades indicate higher treatment rates. Notably, in countries with high awareness and support, even mild interference leads to action, revealing stronger mental health support systems.\n",
    "\n"
   ]
  },
  {
   "cell_type": "code",
   "execution_count": null,
   "id": "e70790e6-5c14-42b2-8f85-a378fdb251ea",
   "metadata": {},
   "outputs": [],
   "source": []
  },
  {
   "cell_type": "markdown",
   "id": "eeb70108-78f5-4505-b838-43d52c5f8429",
   "metadata": {},
   "source": [
    "## **Solution to Bussiness Objective**\n",
    "\n",
    "To achieve the objective, we cleaned and analyzed a global mental health survey using Python and pandas. We explored how factors like location, company size, benefits, and support programs affect mental health treatment and attitudes in the workplace. By visualizing patterns using bar charts, line plots, and heatmaps, and identifying key predictors using feature analysis, we uncovered meaningful insights. These help businesses understand where gaps exist and what changes can be made in workplace policies to support employees better and reduce mental health stigma."
   ]
  },
  {
   "cell_type": "markdown",
   "id": "44880077-5869-4db1-b2ff-37365527e95f",
   "metadata": {},
   "source": [
    "## **🔚 Conclusion**\n",
    "The data shows that mental health support at work—such as easy access to leave, wellness programs, and care options—plays a major role in whether employees seek help. Stigma is lower when anonymity and open communication are supported by managers. Countries and companies with better mental health policies tend to have more treated and aware employees. This analysis provides organizations with clear areas to improve, including better leave policies, education, and building a culture of openness, so that mental health becomes a shared priority, not a hidden issue."
   ]
  },
  {
   "cell_type": "markdown",
   "id": "193d245f-6f09-4706-9a95-a2e5b0d038f1",
   "metadata": {},
   "source": []
  },
  {
   "cell_type": "code",
   "execution_count": null,
   "id": "7c4fed4a-7d95-478c-9e39-91b2845a1906",
   "metadata": {},
   "outputs": [],
   "source": []
  }
 ],
 "metadata": {
  "kernelspec": {
   "display_name": "Python [conda env:base] *",
   "language": "python",
   "name": "conda-base-py"
  },
  "language_info": {
   "codemirror_mode": {
    "name": "ipython",
    "version": 3
   },
   "file_extension": ".py",
   "mimetype": "text/x-python",
   "name": "python",
   "nbconvert_exporter": "python",
   "pygments_lexer": "ipython3",
   "version": "3.12.7"
  }
 },
 "nbformat": 4,
 "nbformat_minor": 5
}
