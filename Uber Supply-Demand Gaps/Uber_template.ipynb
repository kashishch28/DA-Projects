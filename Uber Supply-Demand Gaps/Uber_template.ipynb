{
 "cells": [
  {
   "cell_type": "markdown",
   "id": "8f6ad427-a483-4cba-8057-f0657335eba5",
   "metadata": {},
   "source": [
    "## **Project name**   - Uber Supply_demand Gaps"
   ]
  },
  {
   "cell_type": "markdown",
   "id": "81c5aa1b-9a41-437f-a942-f479e2066eb4",
   "metadata": {},
   "source": [
    "##### **Project Type**    - EDA\n",
    "##### **Contribution**    - Individual\n",
    "##### **Name**            - Kashish Chaudhary"
   ]
  },
  {
   "cell_type": "markdown",
   "id": "e9a65a52-0b36-4530-868b-3b1006bcc9e9",
   "metadata": {},
   "source": [
    "# **Project Summary -**"
   ]
  },
  {
   "cell_type": "markdown",
   "id": "691e73c6-9537-44fa-83b6-383a08ec5b0d",
   "metadata": {},
   "source": [
    "This project aimed to perform a comprehensive analysis of Uber ride request data to identify supply-demand gaps, delays, cancellations, and behavioral patterns. The process was executed using three powerful tools: Python (Pandas) for data cleaning, Microsoft Excel for interactive dashboards, and SQL for structured query-based insights. Each stage was critical to building a polished, insightful, and user-friendly visualization product.\n",
    "\n",
    "1. Data Cleaning and Structuring with Pandas The initial raw dataset contained mixed timestamp formats, null values, and overlapping data fields. Using Pandas in Python, the data underwent structured cleaning:\n",
    "The CSV was read using pandas.read_csv().\n",
    "\n",
    "Combined datetime columns (request_timestamp, drop_timestamp) were converted into Python datetime objects.\n",
    "\n",
    "These fields were split into individual components: request_date, drop_date, request_time, and drop_time, to allow more granular time-based filtering and analysis.\n",
    "\n",
    "A new column trip_duration_min was calculated to quantify ride durations.\n",
    "\n",
    "Null values were intentionally preserved in relevant rows to allow examination of when supply was not available or trips were canceled.\n",
    "\n",
    "After cleaning, the dataset was saved in both sorted and unsorted versions by request_id, offering two perspectives for dashboard analysis.\n",
    "\n",
    "2. Dashboard Design and Visualization in Excel The cleaned file was then imported into Excel, where the core dashboard was created using Pivot Tables, Pivot Charts, Slicers, and KPI Cards:\n",
    "A new column request_in_Hr was created using Excel formulas to convert request_time to a 12-hour AM/PM format, which allowed cleaner time segmentation in visuals.\n",
    "\n",
    "-> KPI cards were created to highlight core metrics:\n",
    "\n",
    "*Total Requests\n",
    "\n",
    "*Completed Trips\n",
    "\n",
    "*Cancellation Percentage\n",
    "\n",
    "*Average Trip Duration\n",
    "\n",
    "*Total Drivers\n",
    "\n",
    "-> Pivot Tables were set up to analyze:\n",
    "\n",
    "*Status breakdown by pickup point\n",
    "\n",
    "*Trip trends by request and drop date\n",
    "\n",
    "*Hourly patterns (12-hour format)\n",
    "\n",
    "-> Charts used included:\n",
    "\n",
    "Bar chart: request vs drop date\n",
    "\n",
    "Pie chart: ride status distribution\n",
    "\n",
    "Line chart: request trend over time\n",
    "\n",
    "->Slicers were added for dynamic filtering across key fields like request_date, driver_id, pickup_point, and status.\n",
    "\n",
    "The final dashboard followed a dark-blue and gold theme, balancing professional visual design with data readability.\n",
    "\n",
    "3. Insights with SQL in MySQL Workbench To validate and extend the analysis, the dataset was imported into MySQL Workbench:\n",
    "A clean database and uber_data table were created with appropriate data types (DATETIME, DATE, TIME, VARCHAR, DECIMAL, etc.).\n",
    "\n",
    "SQL queries were written to:\n",
    "\n",
    "Count total requests, completed trips, and cancellations\n",
    "\n",
    "Analyze trip patterns by date and pickup point\n",
    "\n",
    "Determine busiest hours and no-driver-available periods\n",
    "\n",
    "Support cross-validation of dashboard KPIs\n",
    "\n",
    "Conclusion This project demonstrates a complete, cross-functional data analysis workflow—from cleaning with Pandas, dashboarding with Excel, to querying with SQL. The final deliverable was an interactive and well-designed Excel dashboard supported by reliable backend data processing and SQL insight generation. This approach offers clear visibility into Uber’s operational gaps and serves as a valuable analytical template for ride-share performance evaluation."
   ]
  },
  {
   "cell_type": "markdown",
   "id": "9e001f5b-5eb4-4067-a982-90a6b1ce991a",
   "metadata": {},
   "source": [
    "# **GitHub Link -** \n",
    "https://github.com/kashishch28/DA-Projects"
   ]
  },
  {
   "cell_type": "markdown",
   "id": "6b4cf12d-da2a-4e25-a563-b0e49d600d4b",
   "metadata": {},
   "source": [
    "# **Problem Statement**\n"
   ]
  },
  {
   "cell_type": "markdown",
   "id": "26b9b163-2deb-4025-b3b4-e2c37d6ea2b2",
   "metadata": {},
   "source": [
    "Uber often faces supply-demand mismatches, especially during peak hours, resulting in ride cancellations and unfulfilled requests. Identifying when and where these gaps occur is essential to improve service efficiency and user satisfaction. This project analyzes Uber ride data to uncover trends in request volume, driver availability, and ride status. Using Python for data cleaning, Excel for dashboard creation, and SQL for deeper analysis, the goal is to highlight patterns in supply shortfalls and provide actionable insights. The final outcome is a professional dashboard and a set of SQL queries to support better operational planning.\n",
    "\n",
    "\n"
   ]
  },
  {
   "cell_type": "markdown",
   "id": "2c86cec1-7554-48d0-8f19-2b0f393c91a6",
   "metadata": {},
   "source": [
    "# ***Let's Begin !***"
   ]
  },
  {
   "cell_type": "markdown",
   "id": "eb06093c-1ee0-49e0-a4d5-a2709c16a7eb",
   "metadata": {},
   "source": [
    "## ***1. Know Your Data***\n"
   ]
  },
  {
   "cell_type": "markdown",
   "id": "80c9c1c5-b45e-4332-bc67-fd9f9729c84b",
   "metadata": {},
   "source": [
    "### Import Libraries\n"
   ]
  },
  {
   "cell_type": "code",
   "execution_count": 15,
   "id": "c9a6bedb-9438-4db3-adda-66a65e54a386",
   "metadata": {},
   "outputs": [],
   "source": [
    "# Import Libraries\n",
    "import pandas as pd\n"
   ]
  },
  {
   "cell_type": "markdown",
   "id": "60a7e50c-bc01-4920-a877-c203297733bf",
   "metadata": {},
   "source": [
    "### Dataset Loading"
   ]
  },
  {
   "cell_type": "code",
   "execution_count": 5,
   "id": "78c8674d-fd34-4e68-95d2-9adb6419acf6",
   "metadata": {},
   "outputs": [],
   "source": [
    "# Load Dataset\n",
    "df = pd.read_csv(r\"C:\\Users\\kashi\\Downloads\\Uber Request Data.csv\")\n"
   ]
  },
  {
   "cell_type": "markdown",
   "id": "54f0121d-50ee-4e7c-bf37-913802637c31",
   "metadata": {},
   "source": [
    "### Dataset First View"
   ]
  },
  {
   "cell_type": "code",
   "execution_count": 6,
   "id": "f6ef3b65-9f46-463a-869c-c5ca958c9aef",
   "metadata": {},
   "outputs": [
    {
     "data": {
      "text/html": [
       "<div>\n",
       "<style scoped>\n",
       "    .dataframe tbody tr th:only-of-type {\n",
       "        vertical-align: middle;\n",
       "    }\n",
       "\n",
       "    .dataframe tbody tr th {\n",
       "        vertical-align: top;\n",
       "    }\n",
       "\n",
       "    .dataframe thead th {\n",
       "        text-align: right;\n",
       "    }\n",
       "</style>\n",
       "<table border=\"1\" class=\"dataframe\">\n",
       "  <thead>\n",
       "    <tr style=\"text-align: right;\">\n",
       "      <th></th>\n",
       "      <th>Request id</th>\n",
       "      <th>Pickup point</th>\n",
       "      <th>Driver id</th>\n",
       "      <th>Status</th>\n",
       "      <th>Request timestamp</th>\n",
       "      <th>Drop timestamp</th>\n",
       "    </tr>\n",
       "  </thead>\n",
       "  <tbody>\n",
       "    <tr>\n",
       "      <th>0</th>\n",
       "      <td>619</td>\n",
       "      <td>Airport</td>\n",
       "      <td>1.0</td>\n",
       "      <td>Trip Completed</td>\n",
       "      <td>11-07-2016 11:51</td>\n",
       "      <td>11-07-2016 13:00</td>\n",
       "    </tr>\n",
       "    <tr>\n",
       "      <th>1</th>\n",
       "      <td>867</td>\n",
       "      <td>Airport</td>\n",
       "      <td>1.0</td>\n",
       "      <td>Trip Completed</td>\n",
       "      <td>11-07-2016 17:57</td>\n",
       "      <td>11-07-2016 18:47</td>\n",
       "    </tr>\n",
       "    <tr>\n",
       "      <th>2</th>\n",
       "      <td>1807</td>\n",
       "      <td>City</td>\n",
       "      <td>1.0</td>\n",
       "      <td>Trip Completed</td>\n",
       "      <td>12-07-2016 09:17</td>\n",
       "      <td>12-07-2016 09:58</td>\n",
       "    </tr>\n",
       "    <tr>\n",
       "      <th>3</th>\n",
       "      <td>2532</td>\n",
       "      <td>Airport</td>\n",
       "      <td>1.0</td>\n",
       "      <td>Trip Completed</td>\n",
       "      <td>12-07-2016 21:08</td>\n",
       "      <td>12-07-2016 22:03</td>\n",
       "    </tr>\n",
       "    <tr>\n",
       "      <th>4</th>\n",
       "      <td>3112</td>\n",
       "      <td>City</td>\n",
       "      <td>1.0</td>\n",
       "      <td>Trip Completed</td>\n",
       "      <td>13-07-2016 08:33</td>\n",
       "      <td>13-07-2016 09:25</td>\n",
       "    </tr>\n",
       "    <tr>\n",
       "      <th>...</th>\n",
       "      <td>...</td>\n",
       "      <td>...</td>\n",
       "      <td>...</td>\n",
       "      <td>...</td>\n",
       "      <td>...</td>\n",
       "      <td>...</td>\n",
       "    </tr>\n",
       "    <tr>\n",
       "      <th>6740</th>\n",
       "      <td>6745</td>\n",
       "      <td>City</td>\n",
       "      <td>NaN</td>\n",
       "      <td>No Cars Available</td>\n",
       "      <td>15-07-2016 23:49</td>\n",
       "      <td>NaN</td>\n",
       "    </tr>\n",
       "    <tr>\n",
       "      <th>6741</th>\n",
       "      <td>6752</td>\n",
       "      <td>Airport</td>\n",
       "      <td>NaN</td>\n",
       "      <td>No Cars Available</td>\n",
       "      <td>15-07-2016 23:50</td>\n",
       "      <td>NaN</td>\n",
       "    </tr>\n",
       "    <tr>\n",
       "      <th>6742</th>\n",
       "      <td>6751</td>\n",
       "      <td>City</td>\n",
       "      <td>NaN</td>\n",
       "      <td>No Cars Available</td>\n",
       "      <td>15-07-2016 23:52</td>\n",
       "      <td>NaN</td>\n",
       "    </tr>\n",
       "    <tr>\n",
       "      <th>6743</th>\n",
       "      <td>6754</td>\n",
       "      <td>City</td>\n",
       "      <td>NaN</td>\n",
       "      <td>No Cars Available</td>\n",
       "      <td>15-07-2016 23:54</td>\n",
       "      <td>NaN</td>\n",
       "    </tr>\n",
       "    <tr>\n",
       "      <th>6744</th>\n",
       "      <td>6753</td>\n",
       "      <td>Airport</td>\n",
       "      <td>NaN</td>\n",
       "      <td>No Cars Available</td>\n",
       "      <td>15-07-2016 23:55</td>\n",
       "      <td>NaN</td>\n",
       "    </tr>\n",
       "  </tbody>\n",
       "</table>\n",
       "<p>6745 rows × 6 columns</p>\n",
       "</div>"
      ],
      "text/plain": [
       "      Request id Pickup point  Driver id             Status Request timestamp  \\\n",
       "0            619      Airport        1.0     Trip Completed  11-07-2016 11:51   \n",
       "1            867      Airport        1.0     Trip Completed  11-07-2016 17:57   \n",
       "2           1807         City        1.0     Trip Completed  12-07-2016 09:17   \n",
       "3           2532      Airport        1.0     Trip Completed  12-07-2016 21:08   \n",
       "4           3112         City        1.0     Trip Completed  13-07-2016 08:33   \n",
       "...          ...          ...        ...                ...               ...   \n",
       "6740        6745         City        NaN  No Cars Available  15-07-2016 23:49   \n",
       "6741        6752      Airport        NaN  No Cars Available  15-07-2016 23:50   \n",
       "6742        6751         City        NaN  No Cars Available  15-07-2016 23:52   \n",
       "6743        6754         City        NaN  No Cars Available  15-07-2016 23:54   \n",
       "6744        6753      Airport        NaN  No Cars Available  15-07-2016 23:55   \n",
       "\n",
       "        Drop timestamp  \n",
       "0     11-07-2016 13:00  \n",
       "1     11-07-2016 18:47  \n",
       "2     12-07-2016 09:58  \n",
       "3     12-07-2016 22:03  \n",
       "4     13-07-2016 09:25  \n",
       "...                ...  \n",
       "6740               NaN  \n",
       "6741               NaN  \n",
       "6742               NaN  \n",
       "6743               NaN  \n",
       "6744               NaN  \n",
       "\n",
       "[6745 rows x 6 columns]"
      ]
     },
     "execution_count": 6,
     "metadata": {},
     "output_type": "execute_result"
    }
   ],
   "source": [
    "df"
   ]
  },
  {
   "cell_type": "markdown",
   "id": "dfa6d9af-f2ee-468e-afd0-08c51c3d93c2",
   "metadata": {},
   "source": [
    "### Dataset Rows & Columns count"
   ]
  },
  {
   "cell_type": "code",
   "execution_count": 7,
   "id": "7714e321-9afe-4f46-b1a3-28785dc50806",
   "metadata": {},
   "outputs": [
    {
     "data": {
      "text/plain": [
       "(6745, 6)"
      ]
     },
     "execution_count": 7,
     "metadata": {},
     "output_type": "execute_result"
    }
   ],
   "source": [
    "df.shape"
   ]
  },
  {
   "cell_type": "markdown",
   "id": "7deae345-f18d-4eed-8cdc-365b35c33c59",
   "metadata": {},
   "source": [
    "### Dataset Information"
   ]
  },
  {
   "cell_type": "code",
   "execution_count": 8,
   "id": "b32bd73c-6097-4ddc-a619-1a7e8f1141e3",
   "metadata": {},
   "outputs": [
    {
     "name": "stdout",
     "output_type": "stream",
     "text": [
      "<class 'pandas.core.frame.DataFrame'>\n",
      "RangeIndex: 6745 entries, 0 to 6744\n",
      "Data columns (total 6 columns):\n",
      " #   Column             Non-Null Count  Dtype  \n",
      "---  ------             --------------  -----  \n",
      " 0   Request id         6745 non-null   int64  \n",
      " 1   Pickup point       6745 non-null   object \n",
      " 2   Driver id          4095 non-null   float64\n",
      " 3   Status             6745 non-null   object \n",
      " 4   Request timestamp  6745 non-null   object \n",
      " 5   Drop timestamp     2831 non-null   object \n",
      "dtypes: float64(1), int64(1), object(4)\n",
      "memory usage: 316.3+ KB\n"
     ]
    }
   ],
   "source": [
    "df.info()"
   ]
  },
  {
   "cell_type": "markdown",
   "id": "f477bcf3-8c1b-494f-8887-1749b1aa129e",
   "metadata": {},
   "source": [
    "### Missing Values/Null Values"
   ]
  },
  {
   "cell_type": "code",
   "execution_count": 12,
   "id": "0eb106ee-c253-460c-9691-12815e85029c",
   "metadata": {},
   "outputs": [
    {
     "data": {
      "text/plain": [
       "Request id              0\n",
       "Pickup point            0\n",
       "Driver id            2650\n",
       "Status                  0\n",
       "Request timestamp       0\n",
       "Drop timestamp       3914\n",
       "dtype: int64"
      ]
     },
     "execution_count": 12,
     "metadata": {},
     "output_type": "execute_result"
    }
   ],
   "source": [
    "df.isnull().sum()"
   ]
  },
  {
   "cell_type": "markdown",
   "id": "fd762ffa-a6d8-4bf2-8c72-f0fc71baf7da",
   "metadata": {},
   "source": [
    "### What did you know about your dataset?"
   ]
  },
  {
   "cell_type": "markdown",
   "id": "324847ff-95c4-4a03-aaec-74163a5ed18f",
   "metadata": {},
   "source": [
    "#### The following are the major points about the dataset:-\n",
    "\n",
    "1. The dataset contains 6 columns and 6745 rows.\n",
    "2. There are no duplicate values in the dataset."
   ]
  },
  {
   "cell_type": "markdown",
   "id": "07b51e90-f581-4ecd-8042-55ad8604a35a",
   "metadata": {},
   "source": [
    "## ***2. Understanding Your Variables***"
   ]
  },
  {
   "cell_type": "code",
   "execution_count": 16,
   "id": "bd0f16b2-9762-45d9-ab3a-c895e79f72df",
   "metadata": {},
   "outputs": [
    {
     "data": {
      "text/plain": [
       "Index(['Request id', 'Pickup point', 'Driver id', 'Status',\n",
       "       'Request timestamp', 'Drop timestamp'],\n",
       "      dtype='object')"
      ]
     },
     "execution_count": 16,
     "metadata": {},
     "output_type": "execute_result"
    }
   ],
   "source": [
    "# Dataset Columns\n",
    "df.columns"
   ]
  },
  {
   "cell_type": "code",
   "execution_count": 18,
   "id": "03535468-1113-48cf-ad1a-e4e687f87615",
   "metadata": {},
   "outputs": [
    {
     "data": {
      "text/html": [
       "<div>\n",
       "<style scoped>\n",
       "    .dataframe tbody tr th:only-of-type {\n",
       "        vertical-align: middle;\n",
       "    }\n",
       "\n",
       "    .dataframe tbody tr th {\n",
       "        vertical-align: top;\n",
       "    }\n",
       "\n",
       "    .dataframe thead th {\n",
       "        text-align: right;\n",
       "    }\n",
       "</style>\n",
       "<table border=\"1\" class=\"dataframe\">\n",
       "  <thead>\n",
       "    <tr style=\"text-align: right;\">\n",
       "      <th></th>\n",
       "      <th>Request id</th>\n",
       "      <th>Driver id</th>\n",
       "    </tr>\n",
       "  </thead>\n",
       "  <tbody>\n",
       "    <tr>\n",
       "      <th>count</th>\n",
       "      <td>6745.000000</td>\n",
       "      <td>4095.000000</td>\n",
       "    </tr>\n",
       "    <tr>\n",
       "      <th>mean</th>\n",
       "      <td>3384.644922</td>\n",
       "      <td>149.501343</td>\n",
       "    </tr>\n",
       "    <tr>\n",
       "      <th>std</th>\n",
       "      <td>1955.099667</td>\n",
       "      <td>86.051994</td>\n",
       "    </tr>\n",
       "    <tr>\n",
       "      <th>min</th>\n",
       "      <td>1.000000</td>\n",
       "      <td>1.000000</td>\n",
       "    </tr>\n",
       "    <tr>\n",
       "      <th>25%</th>\n",
       "      <td>1691.000000</td>\n",
       "      <td>75.000000</td>\n",
       "    </tr>\n",
       "    <tr>\n",
       "      <th>50%</th>\n",
       "      <td>3387.000000</td>\n",
       "      <td>149.000000</td>\n",
       "    </tr>\n",
       "    <tr>\n",
       "      <th>75%</th>\n",
       "      <td>5080.000000</td>\n",
       "      <td>224.000000</td>\n",
       "    </tr>\n",
       "    <tr>\n",
       "      <th>max</th>\n",
       "      <td>6766.000000</td>\n",
       "      <td>300.000000</td>\n",
       "    </tr>\n",
       "  </tbody>\n",
       "</table>\n",
       "</div>"
      ],
      "text/plain": [
       "        Request id    Driver id\n",
       "count  6745.000000  4095.000000\n",
       "mean   3384.644922   149.501343\n",
       "std    1955.099667    86.051994\n",
       "min       1.000000     1.000000\n",
       "25%    1691.000000    75.000000\n",
       "50%    3387.000000   149.000000\n",
       "75%    5080.000000   224.000000\n",
       "max    6766.000000   300.000000"
      ]
     },
     "execution_count": 18,
     "metadata": {},
     "output_type": "execute_result"
    }
   ],
   "source": [
    "# Dataset Describe\n",
    "df.describe()"
   ]
  },
  {
   "cell_type": "markdown",
   "id": "6ef6d9dd-3ffc-4de7-b9ac-9f7eb285b248",
   "metadata": {},
   "source": [
    "### Variables Description"
   ]
  },
  {
   "cell_type": "markdown",
   "id": "ee60e446-55d2-414b-98b0-f941f67c3c17",
   "metadata": {},
   "source": [
    "#### The following are the variables with their description:-\n",
    "\n",
    "#### *Column names---------------------------Description*\n",
    "\n",
    "1. request_id->Customer Unique id who requested for the cab service through app.\n",
    "2. Pickup point->Pickup location to pickup the customer.\n",
    "3. Driver id->Unique Id of driver who is driving the cab.\n",
    "4. Status->status of trip that if it got completed, cancelled or no cabs are available.\n",
    "5. Request timestamp->Request time and date when the customer requested for the cab service.\n",
    "6. Drop timestamp->Drop time and date when the customer is dropped to their respective location.\n",
    "##### The above are the descriptions for the variables present in the dataset."
   ]
  },
  {
   "cell_type": "markdown",
   "id": "c653d1df-8b4c-40e3-9e0f-02f90b483851",
   "metadata": {},
   "source": [
    "### Check Unique Values for each variable."
   ]
  },
  {
   "cell_type": "code",
   "execution_count": 24,
   "id": "b56e34fe-71ca-49a2-b081-8f1ef1e0d3b6",
   "metadata": {},
   "outputs": [
    {
     "name": "stdout",
     "output_type": "stream",
     "text": [
      "Request id - 6745\n",
      "Pickup point - 2\n",
      "Driver id - 300\n",
      "Status - 3\n",
      "Request timestamp - 4016\n",
      "Drop timestamp - 2282\n"
     ]
    }
   ],
   "source": [
    "for x in df.columns:\n",
    "    print(f\"{x} - {df[x].nunique()}\")"
   ]
  },
  {
   "cell_type": "markdown",
   "id": "12be8c9c-918a-4e3c-ad6b-c8c527c3cd81",
   "metadata": {},
   "source": [
    "## 3. ***Data Wrangling***"
   ]
  },
  {
   "cell_type": "code",
   "execution_count": 26,
   "id": "5112891d-a843-49e7-8559-0f2e3028847b",
   "metadata": {},
   "outputs": [
    {
     "data": {
      "text/plain": [
       "Request id              0\n",
       "Pickup point            0\n",
       "Driver id            2650\n",
       "Status                  0\n",
       "Request timestamp       0\n",
       "Drop timestamp       3914\n",
       "dtype: int64"
      ]
     },
     "execution_count": 26,
     "metadata": {},
     "output_type": "execute_result"
    }
   ],
   "source": [
    "df.isnull().sum()"
   ]
  },
  {
   "cell_type": "code",
   "execution_count": 27,
   "id": "6fc34c27-816c-4b2a-8a74-879889c238a3",
   "metadata": {},
   "outputs": [],
   "source": [
    "df.fillna({\"Driver id\": \"Not Available\"},inplace=True)"
   ]
  },
  {
   "cell_type": "code",
   "execution_count": 28,
   "id": "fbb8a0b9-d3b4-4664-9260-e6c28a4bc27a",
   "metadata": {},
   "outputs": [],
   "source": [
    "\n",
    "df.fillna({\"Drop timestamp\": \"Not Available\"},inplace=True)"
   ]
  },
  {
   "cell_type": "code",
   "execution_count": 29,
   "id": "f91fe02b-81dc-478e-b537-8be512ed3a1f",
   "metadata": {},
   "outputs": [
    {
     "data": {
      "text/plain": [
       "Request id           0\n",
       "Pickup point         0\n",
       "Driver id            0\n",
       "Status               0\n",
       "Request timestamp    0\n",
       "Drop timestamp       0\n",
       "dtype: int64"
      ]
     },
     "execution_count": 29,
     "metadata": {},
     "output_type": "execute_result"
    }
   ],
   "source": [
    "\n",
    "# checking that the missing values are present or removed\n",
    "df.isnull().sum()"
   ]
  },
  {
   "cell_type": "markdown",
   "id": "26443f9c-76ce-4953-8b93-0831a6819908",
   "metadata": {},
   "source": [
    "### What all manipulations have you done and insights you found?"
   ]
  },
  {
   "cell_type": "markdown",
   "id": "d19b3556-9652-463c-9de2-3c1c9ac2860f",
   "metadata": {},
   "source": [
    "The following manipulation we have done to our dataset:-\n",
    "\n",
    "As there were no duplicates so no issue of removing it.\n",
    "There are total 2 columns having missing values which we replaced with Not Available value.\n",
    "Driver id-----2650\n",
    "\n",
    "Drop timestamp-----3914"
   ]
  },
  {
   "cell_type": "markdown",
   "id": "49e9dbc6-12be-43b5-be6a-873a3d99fe87",
   "metadata": {},
   "source": [
    "## ***4. Data Vizualization, Storytelling & Experimenting with charts : Understand the relationships between variables***"
   ]
  },
  {
   "cell_type": "markdown",
   "id": "31ec1399-5534-4de2-987a-21cf90cf7590",
   "metadata": {},
   "source": [
    "For Visualization excel sheets is attached"
   ]
  },
  {
   "cell_type": "markdown",
   "id": "886d0338-6673-407b-83f1-cddf63210351",
   "metadata": {},
   "source": [
    "# **Conclusion**"
   ]
  },
  {
   "cell_type": "markdown",
   "id": "fccbabf3-0b3c-4e3c-9f35-f23789ed23a1",
   "metadata": {},
   "source": [
    "### **Conclusion**\n",
    "\n",
    "Through this project, we performed an end-to-end analysis of Uber ride request data using **Pandas (Python)** for data cleaning, **Excel** for dashboard visualization, and **SQL** for backend data validation.\n",
    "\n",
    "In **Pandas**, we handled time formatting, removed redundant columns, split timestamps into date/time, and calculated trip durations. This enabled structured and accurate analysis downstream.\n",
    "\n",
    "In **Excel**, we created an interactive dashboard featuring bar, pie, and line charts, slicers for filtering, and KPI cards. These visuals helped uncover key insights such as:\n",
    "\n",
    "* High cancellation rates during peak hours\n",
    "* Supply shortages, especially at the Airport pickup point\n",
    "* Specific times of day when \"No Cars Available\" was common\n",
    "* Trends in completed vs. unfulfilled trips\n",
    "\n",
    "In **SQL**, we ran queries to validate Excel findings, calculate aggregates, and confirm logic behind our KPIs—such as total trips, completion rate, and hourly patterns.\n",
    "\n",
    "Together, these tools revealed the root causes of supply-demand mismatches and offered actionable insights for operational improvements. The combined use of Pandas, Excel, and SQL provided a robust analytical workflow, enabling both visual storytelling and structured data validation.\n"
   ]
  },
  {
   "cell_type": "code",
   "execution_count": null,
   "id": "97d13817-7d10-4217-b446-b3c776e9afc2",
   "metadata": {},
   "outputs": [],
   "source": []
  }
 ],
 "metadata": {
  "kernelspec": {
   "display_name": "Python [conda env:base] *",
   "language": "python",
   "name": "conda-base-py"
  },
  "language_info": {
   "codemirror_mode": {
    "name": "ipython",
    "version": 3
   },
   "file_extension": ".py",
   "mimetype": "text/x-python",
   "name": "python",
   "nbconvert_exporter": "python",
   "pygments_lexer": "ipython3",
   "version": "3.12.7"
  }
 },
 "nbformat": 4,
 "nbformat_minor": 5
}
